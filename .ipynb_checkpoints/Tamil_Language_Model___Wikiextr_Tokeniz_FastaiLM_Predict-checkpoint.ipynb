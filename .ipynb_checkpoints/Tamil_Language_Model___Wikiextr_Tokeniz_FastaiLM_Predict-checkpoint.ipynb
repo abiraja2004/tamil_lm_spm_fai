{
 "cells": [
  {
   "cell_type": "markdown",
   "metadata": {
    "colab_type": "text",
    "id": "0AWt_a15m68f"
   },
   "source": [
    "Code originated from https://github.com/goru001/nlp-for-hindi/blob/master/language-model/Hindi_Language_Model.ipynb\n",
    "\n",
    "Modifications for tamil:\n",
    "\n",
    "Parse wikidump instead of crawling (mostly because I did not take time to adapt the crawler and also because thought it would be efficient to get whole thing in one go).\n",
    "\n",
    "Used close to 60000 articles (200 of the large wikiextract resulting docs)\n",
    "\n",
    "Tried 8000 word and 16000 word vocabulary for Sentence Piece.\n",
    "\n",
    "Perplexity of 37.\n",
    "\n",
    "Updated the text generator section with a slightly better probing function.\n"
   ]
  },
  {
   "cell_type": "markdown",
   "metadata": {},
   "source": [
    "## Section 1. Wiki article extractor from Tamil Wiki Dump"
   ]
  },
  {
   "cell_type": "code",
   "execution_count": 2,
   "metadata": {
    "colab": {},
    "colab_type": "code",
    "collapsed": true,
    "id": "Qc-FCFi9deIZ"
   },
   "outputs": [],
   "source": [
    "from urllib.request import urlopen\n",
    "import pickle"
   ]
  },
  {
   "cell_type": "code",
   "execution_count": 3,
   "metadata": {
    "colab": {
     "base_uri": "https://localhost:8080/",
     "height": 296
    },
    "colab_type": "code",
    "id": "ZSBr7MTbYvjy",
    "outputId": "4304c135-2ad5-42b0-86d2-1dfa8e2342a8"
   },
   "outputs": [
    {
     "name": "stdout",
     "output_type": "stream",
     "text": [
      "--2019-03-19 02:20:43--  http://dumps.wikimedia.org/tawiki/latest/tawiki-latest-pages-articles.xml.bz2\n",
      "Resolving dumps.wikimedia.org (dumps.wikimedia.org)... 208.80.155.106, 2620:0:861:4:208:80:155:106\n",
      "Connecting to dumps.wikimedia.org (dumps.wikimedia.org)|208.80.155.106|:80... connected.\n",
      "HTTP request sent, awaiting response... 301 Moved Permanently\n",
      "Location: https://dumps.wikimedia.org/tawiki/latest/tawiki-latest-pages-articles.xml.bz2 [following]\n",
      "--2019-03-19 02:20:44--  https://dumps.wikimedia.org/tawiki/latest/tawiki-latest-pages-articles.xml.bz2\n",
      "Connecting to dumps.wikimedia.org (dumps.wikimedia.org)|208.80.155.106|:443... connected.\n",
      "HTTP request sent, awaiting response... 200 OK\n",
      "Length: 141129076 (135M) [application/octet-stream]\n",
      "Saving to: ‘tawiki-latest-pages-articles.xml.bz2’\n",
      "\n",
      "tawiki-latest-pages 100%[===================>] 134.59M  1.95MB/s    in 69s     \n",
      "\n",
      "2019-03-19 02:21:53 (1.96 MB/s) - ‘tawiki-latest-pages-articles.xml.bz2’ saved [141129076/141129076]\n",
      "\n"
     ]
    }
   ],
   "source": [
    "!wget http://dumps.wikimedia.org/tawiki/latest/tawiki-latest-pages-articles.xml.bz2"
   ]
  },
  {
   "cell_type": "code",
   "execution_count": 4,
   "metadata": {
    "colab": {},
    "colab_type": "code",
    "collapsed": true,
    "id": "nTNR3ZbqYvuf"
   },
   "outputs": [],
   "source": [
    "!bunzip2 tawiki-latest-pages-articles.xml.bz2"
   ]
  },
  {
   "cell_type": "code",
   "execution_count": 5,
   "metadata": {
    "colab": {
     "base_uri": "https://localhost:8080/",
     "height": 69
    },
    "colab_type": "code",
    "id": "uE3b_XLQYvy0",
    "outputId": "f074a01c-5701-4430-9a1f-6c7260675f98"
   },
   "outputs": [
    {
     "name": "stdout",
     "output_type": "stream",
     "text": [
      "total 1163700\r\n",
      "-rw-r--r-- 1 ravi_annaswamy ravi_annaswamy 1190436342 Mar  2 07:30 tawiki-latest-pages-articles.xml\r\n",
      "-rw-r--r-- 1 ravi_annaswamy ravi_annaswamy    1183927 Mar 19 02:21 tamil_nlp_wikilink_article_tokenizer_lm.ipynb\r\n"
     ]
    }
   ],
   "source": [
    "!ls -ltr"
   ]
  },
  {
   "cell_type": "code",
   "execution_count": 6,
   "metadata": {
    "colab": {
     "base_uri": "https://localhost:8080/",
     "height": 104
    },
    "colab_type": "code",
    "id": "QC3gOA8BYvr6",
    "outputId": "7e62ffc8-f064-46ca-b443-dd793bff3cbf"
   },
   "outputs": [
    {
     "name": "stdout",
     "output_type": "stream",
     "text": [
      "Cloning into 'wikiextractor'...\n",
      "remote: Enumerating objects: 523, done.\u001b[K\n",
      "remote: Total 523 (delta 0), reused 0 (delta 0), pack-reused 523\u001b[K\n",
      "Receiving objects: 100% (523/523), 454.22 KiB | 0 bytes/s, done.\n",
      "Resolving deltas: 100% (297/297), done.\n"
     ]
    }
   ],
   "source": [
    "!git clone https://github.com/attardi/wikiextractor.git"
   ]
  },
  {
   "cell_type": "code",
   "execution_count": 7,
   "metadata": {
    "colab": {},
    "colab_type": "code",
    "id": "AAXy0mz-aB7S"
   },
   "outputs": [
    {
     "name": "stdout",
     "output_type": "stream",
     "text": [
      "/home/ravi_annaswamy/tamil_lm/wikiextractor\n"
     ]
    }
   ],
   "source": [
    "import os\n",
    "%cd wikiextractor"
   ]
  },
  {
   "cell_type": "code",
   "execution_count": 8,
   "metadata": {
    "colab": {
     "base_uri": "https://localhost:8080/",
     "height": 52
    },
    "colab_type": "code",
    "id": "-Xxl8QviaFME",
    "outputId": "61240527-72e8-459a-de0e-913e5c3cf0d3"
   },
   "outputs": [
    {
     "name": "stdout",
     "output_type": "stream",
     "text": [
      "ChangeLog\t   extractPage.py  README.md  tests.py\tWikiExtractor.py\r\n",
      "cirrus-extract.py  LICENSE\t   setup.py   tox.ini\r\n"
     ]
    }
   ],
   "source": [
    "!ls"
   ]
  },
  {
   "cell_type": "code",
   "execution_count": 9,
   "metadata": {
    "colab": {
     "base_uri": "https://localhost:8080/"
    },
    "colab_type": "code",
    "id": "LevWTYhTaH5x",
    "outputId": "473521eb-8d5c-4db2-aba5-4d9289fbf82c"
   },
   "outputs": [
    {
     "name": "stdout",
     "output_type": "stream",
     "text": [
      "WikiExtractor.py:2432: DeprecationWarning: Flags not at the start of the expression '\\\\[(((?i)bitcoin:|ftp' (truncated)\r\n",
      "  re.S | re.U)\r\n",
      "WikiExtractor.py:2439: DeprecationWarning: Flags not at the start of the expression '^(http://|https://)(' (truncated)\r\n",
      "  re.X | re.S | re.U)\r\n"
     ]
    }
   ],
   "source": [
    "!python WikiExtractor.py ../tawiki-latest-pages-articles.xml --no-templates -q"
   ]
  },
  {
   "cell_type": "code",
   "execution_count": 10,
   "metadata": {
    "colab": {
     "base_uri": "https://localhost:8080/",
     "height": 52
    },
    "colab_type": "code",
    "id": "53imvwuPaH3S",
    "outputId": "8563bbf3-db45-4d36-bfdc-978f18ddc946"
   },
   "outputs": [
    {
     "name": "stdout",
     "output_type": "stream",
     "text": [
      "ChangeLog\t   extractPage.py  README.md  tests.py\ttox.ini\r\n",
      "cirrus-extract.py  LICENSE\t   setup.py   text\tWikiExtractor.py\r\n"
     ]
    }
   ],
   "source": [
    "!ls"
   ]
  },
  {
   "cell_type": "code",
   "execution_count": 2,
   "metadata": {
    "colab": {},
    "colab_type": "code",
    "collapsed": true,
    "id": "gNNGlq5uaH0I"
   },
   "outputs": [],
   "source": [
    "import glob\n",
    "flist=glob.glob('text/*/*')"
   ]
  },
  {
   "cell_type": "code",
   "execution_count": 3,
   "metadata": {
    "colab": {
     "base_uri": "https://localhost:8080/",
     "height": 35
    },
    "colab_type": "code",
    "id": "lwuqbrs7aHyV",
    "outputId": "95af0b6d-64ad-43a4-93b5-e341f2219306"
   },
   "outputs": [
    {
     "data": {
      "text/plain": [
       "444"
      ]
     },
     "execution_count": 3,
     "metadata": {},
     "output_type": "execute_result"
    }
   ],
   "source": [
    "len(flist)"
   ]
  },
  {
   "cell_type": "code",
   "execution_count": 13,
   "metadata": {
    "colab": {},
    "colab_type": "code",
    "id": "DfY7y5G7aHv4"
   },
   "outputs": [
    {
     "data": {
      "text/plain": [
       "'text/AE/AE_wiki_12.txt'"
      ]
     },
     "execution_count": 13,
     "metadata": {},
     "output_type": "execute_result"
    }
   ],
   "source": [
    "def future_name(fn):\n",
    "  a,b,c=fn.split('/')\n",
    "  return '/'.join([a,b,b+'_'+c+'.txt'])\n",
    "future_name(flist[0])"
   ]
  },
  {
   "cell_type": "code",
   "execution_count": 14,
   "metadata": {
    "collapsed": true
   },
   "outputs": [],
   "source": [
    "import os\n",
    "for f in flist:\n",
    "  os.rename(f,future_name(f))"
   ]
  },
  {
   "cell_type": "code",
   "execution_count": 14,
   "metadata": {},
   "outputs": [
    {
     "data": {
      "text/plain": [
       "(444, ['text/AE/AE_wiki_34.txt', 'text/AE/AE_wiki_04.txt'])"
      ]
     },
     "execution_count": 14,
     "metadata": {},
     "output_type": "execute_result"
    }
   ],
   "source": [
    "flist=glob.glob('text/*/*')\n",
    "len(flist),flist[:2]"
   ]
  },
  {
   "cell_type": "markdown",
   "metadata": {
    "colab_type": "text",
    "id": "6axjnZg9kk4x"
   },
   "source": [
    "## Section 2: Create a Tamil Tokenizer using Google SentencePiece"
   ]
  },
  {
   "cell_type": "code",
   "execution_count": 18,
   "metadata": {
    "colab": {
     "base_uri": "https://localhost:8080/",
     "height": 124
    },
    "colab_type": "code",
    "id": "i9KeHrBxkr8K",
    "outputId": "8dc29a01-8385-4422-af59-3dc7d20c1750"
   },
   "outputs": [
    {
     "name": "stdout",
     "output_type": "stream",
     "text": [
      "Collecting sentencepiece\n",
      "  Using cached https://files.pythonhosted.org/packages/bf/7b/ccbfae16c95700646e9093fbed2f0a551e4fadc6355c3595c88b53644220/sentencepiece-0.1.8-cp37-cp37m-manylinux1_x86_64.whl\n",
      "Installing collected packages: sentencepiece\n",
      "Successfully installed sentencepiece-0.1.8\n"
     ]
    }
   ],
   "source": [
    "!pip install sentencepiece --user"
   ]
  },
  {
   "cell_type": "code",
   "execution_count": 1,
   "metadata": {
    "colab": {},
    "colab_type": "code",
    "collapsed": true,
    "id": "0D40PNTUhEUN"
   },
   "outputs": [],
   "source": [
    "import sentencepiece as spm\n",
    "import random"
   ]
  },
  {
   "cell_type": "code",
   "execution_count": null,
   "metadata": {
    "colab": {
     "base_uri": "https://localhost:8080/",
     "height": 55
    },
    "colab_type": "code",
    "id": "exm558JLkpL6",
    "outputId": "dbf59f6b-3406-43e8-ff93-c0693a02cfca"
   },
   "outputs": [],
   "source": [
    "fname=random.choice(flist)\n",
    "with open(fname, encoding='utf-8') as f:\n",
    "    text = f.read()\n",
    "text"
   ]
  },
  {
   "cell_type": "code",
   "execution_count": 15,
   "metadata": {
    "colab": {
     "base_uri": "https://localhost:8080/",
     "height": 55
    },
    "colab_type": "code",
    "id": "zsE_XU30lQp6",
    "outputId": "9c107902-8977-4739-ced9-01bf1ae12e7a"
   },
   "outputs": [
    {
     "data": {
      "text/plain": [
       "'text/AE/AE_wiki_34.txt,text/AE/AE_wiki_04.txt'"
      ]
     },
     "execution_count": 15,
     "metadata": {},
     "output_type": "execute_result"
    }
   ],
   "source": [
    "flist=','.join(flist[:200])\n",
    "flist[:45]"
   ]
  },
  {
   "cell_type": "code",
   "execution_count": 16,
   "metadata": {
    "colab": {
     "base_uri": "https://localhost:8080/",
     "height": 35
    },
    "colab_type": "code",
    "id": "hl_6DcWhlWIY",
    "outputId": "debac9ff-6d3a-4731-c185-d423f1d96232"
   },
   "outputs": [
    {
     "data": {
      "text/plain": [
       "True"
      ]
     },
     "execution_count": 16,
     "metadata": {},
     "output_type": "execute_result"
    }
   ],
   "source": [
    "spm.SentencePieceTrainer.Train(f'--input={flist} --model_prefix=tamil_lm_8k --vocab_size=8000')"
   ]
  },
  {
   "cell_type": "code",
   "execution_count": 17,
   "metadata": {
    "colab": {},
    "colab_type": "code",
    "collapsed": true,
    "id": "lCcwkAq3l6bw"
   },
   "outputs": [],
   "source": [
    "sp = spm.SentencePieceProcessor()"
   ]
  },
  {
   "cell_type": "code",
   "execution_count": 18,
   "metadata": {
    "colab": {
     "base_uri": "https://localhost:8080/",
     "height": 35
    },
    "colab_type": "code",
    "id": "FcLW7YCxl__P",
    "outputId": "0d9b2bb2-bfd6-48e6-e362-2162940ef0a5"
   },
   "outputs": [
    {
     "data": {
      "text/plain": [
       "True"
      ]
     },
     "execution_count": 18,
     "metadata": {},
     "output_type": "execute_result"
    }
   ],
   "source": [
    "sp.Load(\"tamil_lm_8k.model\")"
   ]
  },
  {
   "cell_type": "code",
   "execution_count": 19,
   "metadata": {
    "colab": {
     "base_uri": "https://localhost:8080/",
     "height": 17307
    },
    "colab_type": "code",
    "id": "2jfeEM-EmCGP",
    "outputId": "907c1483-d31b-4158-e931-bb33e2dc5afc"
   },
   "outputs": [
    {
     "data": {
      "text/plain": [
       "['▁<',\n",
       " 'doc',\n",
       " '▁id',\n",
       " '=\"',\n",
       " '36',\n",
       " '65',\n",
       " '44\"',\n",
       " '▁',\n",
       " 'url',\n",
       " '=\"',\n",
       " 'http',\n",
       " 's',\n",
       " '://',\n",
       " 'ta',\n",
       " '.',\n",
       " 'wiki',\n",
       " 'pedia',\n",
       " '.',\n",
       " 'org',\n",
       " '/',\n",
       " 'wiki',\n",
       " '?',\n",
       " 'curi',\n",
       " 'd',\n",
       " '=',\n",
       " '36',\n",
       " '65',\n",
       " '44\"',\n",
       " '▁title',\n",
       " '=\"',\n",
       " 'ஆர்',\n",
       " 'த்தி',\n",
       " '▁ராமசாமி',\n",
       " '\">',\n",
       " '▁ஆர்',\n",
       " 'த்தி',\n",
       " '▁ராமசாமி',\n",
       " '▁ஆர்',\n",
       " 'த்தி',\n",
       " '▁ராமசாமி',\n",
       " '▁(\"',\n",
       " 'A',\n",
       " 'ar',\n",
       " 'th',\n",
       " 'ie',\n",
       " '▁Ra',\n",
       " 'ma',\n",
       " 's',\n",
       " 'wa',\n",
       " 'my',\n",
       " '\")',\n",
       " '▁என்பவர்',\n",
       " '▁ஓர்',\n",
       " '▁இந்திய',\n",
       " '▁பெண்',\n",
       " '▁சதுரங்க',\n",
       " '▁விளையாட்டு',\n",
       " '▁வீர',\n",
       " 'ராவார்',\n",
       " '.',\n",
       " '▁பெண்',\n",
       " '▁கிராண்டு',\n",
       " '▁மாசுட்டர்',\n",
       " '▁என்ற',\n",
       " '▁பெருமை',\n",
       " 'யும்',\n",
       " '▁இவருக்கு',\n",
       " '▁உண்டு',\n",
       " '.',\n",
       " '▁1981',\n",
       " '▁ஆம்',\n",
       " '▁ஆண்டு',\n",
       " '▁சூன்',\n",
       " '▁28',\n",
       " '▁ஆம்',\n",
       " '▁தேதி',\n",
       " '▁இவர்',\n",
       " '▁பிறந்தார்',\n",
       " '.',\n",
       " '▁2003',\n",
       " '▁ஆம்',\n",
       " '▁ஆண்டில்',\n",
       " '▁தேசிய',\n",
       " '▁சதுரங்க',\n",
       " '▁சாம்பியன்',\n",
       " '▁பட்டத்தை',\n",
       " '▁ஆர்',\n",
       " 'த்தி',\n",
       " '▁வென்றார்',\n",
       " '.',\n",
       " '▁1999',\n",
       " '▁ஆம்',\n",
       " '▁ஆண்டு',\n",
       " '▁எசுப்பானியாவ',\n",
       " 'ின்',\n",
       " '▁ஓ',\n",
       " 'ரோ',\n",
       " 'பெ',\n",
       " 'சா',\n",
       " '▁நகரத்தில்',\n",
       " '▁நடைபெற்ற',\n",
       " '▁18',\n",
       " '▁வயதிற்கு',\n",
       " '▁உட்பட்ட',\n",
       " 'ோருக்கான',\n",
       " '▁பெண்கள்',\n",
       " '▁உலக',\n",
       " '▁சதுரங்க',\n",
       " '▁சாம்பியன்',\n",
       " '▁பட்ட',\n",
       " 'ப்போட்டி',\n",
       " 'யிலும்',\n",
       " '▁வெற்றி',\n",
       " '▁பெற்றுள்ளார்',\n",
       " '.',\n",
       " '▁தற்போது',\n",
       " '▁22',\n",
       " '11',\n",
       " '▁எ',\n",
       " 'லோ',\n",
       " '▁தர',\n",
       " 'ப்புள்ளி',\n",
       " 'கள்',\n",
       " '▁பெற்ற',\n",
       " '▁சதுரங்க',\n",
       " '▁வீரராக',\n",
       " '▁உள்ளார்',\n",
       " '.',\n",
       " '▁1990',\n",
       " '▁ஆம்',\n",
       " '▁ஆண்டு',\n",
       " '▁இந்திய',\n",
       " '▁அளவில்',\n",
       " '▁நடைபெற்ற',\n",
       " '▁பத்து',\n",
       " '▁வயதிற்குட்பட்ட',\n",
       " 'வர்',\n",
       " 'களுக்கான',\n",
       " '▁பெண்கள்',\n",
       " '▁சதுரங்க',\n",
       " '▁விளையாட்டில்',\n",
       " '▁இரண்டாம்',\n",
       " '▁இடம்',\n",
       " '▁பிடித்தார்',\n",
       " '.',\n",
       " '▁1993',\n",
       " '▁ஆம்',\n",
       " '▁ஆண்டு',\n",
       " '▁12',\n",
       " '▁வயதிற்கு',\n",
       " 'பட்ட',\n",
       " 'வர்',\n",
       " 'களுக்கான',\n",
       " '▁விளையாட்டுப்',\n",
       " '▁பிரிவில்',\n",
       " '▁முதலிடத்தை',\n",
       " 'ப்',\n",
       " '▁பிடித்தார்',\n",
       " '.',\n",
       " '▁தனது',\n",
       " '▁அடுத்தடுத்த',\n",
       " '▁அதிரடி',\n",
       " 'யான',\n",
       " '▁நகர்வு',\n",
       " 'கள்',\n",
       " '▁மூலம்',\n",
       " '▁1995',\n",
       " '▁ஆம்',\n",
       " '▁ஆண்டில்',\n",
       " '▁14',\n",
       " '▁வயதுக்கு',\n",
       " '▁உட்பட்ட',\n",
       " 'ோர்',\n",
       " '▁',\n",
       " ',',\n",
       " '▁16',\n",
       " '▁வயதிற்கு',\n",
       " '▁உட்பட்ட',\n",
       " 'ோர்',\n",
       " '▁சாம்பியன்',\n",
       " '▁பட்டங்களை',\n",
       " '▁வென்றார்',\n",
       " '.',\n",
       " '▁1998',\n",
       " ',',\n",
       " '▁1999',\n",
       " '▁ஆம்',\n",
       " '▁ஆண்டுகளில்',\n",
       " '▁18',\n",
       " '▁வயதுக்கு',\n",
       " '▁உட்பட்ட',\n",
       " 'ோருக்கான',\n",
       " '▁பெண்கள்',\n",
       " '▁தேசியப்',\n",
       " '▁பட்டத்தை',\n",
       " '▁வென்றார்',\n",
       " '.',\n",
       " '▁இந்திய',\n",
       " '▁சதுரங்க',\n",
       " '▁கிராண்டு',\n",
       " '▁மாசுட்டர்',\n",
       " '▁ஆர்',\n",
       " '.',\n",
       " 'பி',\n",
       " '.',\n",
       " '▁இர',\n",
       " 'மே',\n",
       " 'சை',\n",
       " '▁ஆர்',\n",
       " 'த்தி',\n",
       " '▁திருமணம்',\n",
       " '▁செய்து',\n",
       " '▁கொண்டார்',\n",
       " '.',\n",
       " '▁</',\n",
       " 'doc',\n",
       " '>',\n",
       " '▁<',\n",
       " 'doc',\n",
       " '▁id',\n",
       " '=\"',\n",
       " '36',\n",
       " '65',\n",
       " '46\"',\n",
       " '▁',\n",
       " 'url',\n",
       " '=\"',\n",
       " 'http',\n",
       " 's',\n",
       " '://',\n",
       " 'ta',\n",
       " '.',\n",
       " 'wiki',\n",
       " 'pedia',\n",
       " '.',\n",
       " 'org',\n",
       " '/',\n",
       " 'wiki',\n",
       " '?',\n",
       " 'curi',\n",
       " 'd',\n",
       " '=',\n",
       " '36',\n",
       " '65',\n",
       " '46\"',\n",
       " '▁title',\n",
       " '=\"',\n",
       " 'கல்வி',\n",
       " '▁மேலாண்மை',\n",
       " '\">',\n",
       " '▁கல்வி',\n",
       " '▁மேலாண்மை',\n",
       " '▁கல்வி',\n",
       " '▁மேலாண்மை',\n",
       " '▁என்பது',\n",
       " '▁மனித',\n",
       " '▁வள',\n",
       " 'த்தின்',\n",
       " '▁மூலமும்',\n",
       " '▁பொருட்களின்',\n",
       " '▁மூலமும்',\n",
       " '▁நிறுவனத்தின்',\n",
       " '▁இலக்குகளை',\n",
       " '▁தீர்மானித்த',\n",
       " 'ு',\n",
       " '▁திட்டமிட்டு',\n",
       " '▁கட்டுப்படுத்த',\n",
       " 'ி',\n",
       " '▁இயக்க',\n",
       " 'ுவதும்',\n",
       " '▁மதிப்பீடு',\n",
       " '▁செய்வது',\n",
       " 'ம்',\n",
       " '▁ஆகும்',\n",
       " '.',\n",
       " 'கல்வி',\n",
       " '▁மேலாண்மை',\n",
       " 'யில்',\n",
       " '▁மாந்தர',\n",
       " 'ின்',\n",
       " '▁சிந்தனை',\n",
       " ',',\n",
       " '▁ஆற்றல்',\n",
       " ',',\n",
       " '▁பயன்பாடு',\n",
       " ',',\n",
       " '▁கால',\n",
       " '▁எல்லை',\n",
       " '▁ஆகிய',\n",
       " '▁கூறுகள்',\n",
       " '▁உள்ளன',\n",
       " '.',\n",
       " '▁மனித',\n",
       " '▁வளங்கள்',\n",
       " '▁உடல்',\n",
       " '▁மற்றும்',\n",
       " '▁பொருள்',\n",
       " '▁வளங்கள்',\n",
       " '▁சிந்தனை',\n",
       " '▁வளங்கள்',\n",
       " '▁மேலாளர்',\n",
       " '▁இருக்கின்ற',\n",
       " '▁வளங்களை',\n",
       " 'க்',\n",
       " '▁கொண்டு',\n",
       " '▁நோக்கம்',\n",
       " '▁அமைத்து',\n",
       " '▁சிறப்பான',\n",
       " '▁கட்டமைப்பை',\n",
       " 'த்',\n",
       " '▁தர',\n",
       " 'ுதல்',\n",
       " '▁திட்டமிடல்',\n",
       " '▁செயல்பாடுகளை',\n",
       " '▁அமைத்த',\n",
       " 'ல்',\n",
       " '▁குழு',\n",
       " '▁வேலை',\n",
       " 'யாக',\n",
       " '▁செயல்பாடுகளை',\n",
       " '▁ஒரு',\n",
       " 'ங்க',\n",
       " 'மை',\n",
       " 'த்தல்',\n",
       " '▁பணிகள்',\n",
       " '▁பற்றிய',\n",
       " '▁விளக்கம்',\n",
       " '▁பணிகளை',\n",
       " '▁அமைத்து',\n",
       " '▁வேலையை',\n",
       " '▁பகிர்ந்த',\n",
       " 'ளித்த',\n",
       " 'ல்',\n",
       " '▁</',\n",
       " 'doc',\n",
       " '>',\n",
       " '▁<',\n",
       " 'doc',\n",
       " '▁id',\n",
       " '=\"',\n",
       " '36',\n",
       " '65',\n",
       " '49\"',\n",
       " '▁',\n",
       " 'url',\n",
       " '=\"',\n",
       " 'http',\n",
       " 's',\n",
       " '://',\n",
       " 'ta',\n",
       " '.',\n",
       " 'wiki',\n",
       " 'pedia',\n",
       " '.',\n",
       " 'org',\n",
       " '/',\n",
       " 'wiki',\n",
       " '?',\n",
       " 'curi',\n",
       " 'd',\n",
       " '=',\n",
       " '36',\n",
       " '65',\n",
       " '49\"',\n",
       " '▁title',\n",
       " '=\"',\n",
       " 'ம',\n",
       " 'ழை',\n",
       " 'நீர்',\n",
       " '▁-',\n",
       " '▁ஹா',\n",
       " 'லா',\n",
       " 'ஸ்',\n",
       " 'யன்',\n",
       " '\">',\n",
       " '▁மழை',\n",
       " 'நீர்',\n",
       " '▁-',\n",
       " '▁ஹா',\n",
       " 'லா',\n",
       " 'ஸ்',\n",
       " 'யன்',\n",
       " '▁மறை',\n",
       " 'நீர்',\n",
       " '▁-',\n",
       " '▁ஹா',\n",
       " 'லா',\n",
       " 'ஸ்',\n",
       " 'யன்',\n",
       " '▁நீர',\n",
       " 'ானது',\n",
       " 'திர',\n",
       " 'வ',\n",
       " 'நிலையில்',\n",
       " '▁இருக்க',\n",
       " 'வேண்டிய',\n",
       " 'அ',\n",
       " 'வ',\n",
       " 'சிய',\n",
       " 'மே',\n",
       " '▁இல்லை',\n",
       " '.',\n",
       " '▁ஹைட்ரஜன்',\n",
       " '▁பி',\n",
       " 'னை',\n",
       " 'ப்பு',\n",
       " '▁நீரை',\n",
       " 'ஒரு',\n",
       " 'திர',\n",
       " 'ச',\n",
       " 'மாக',\n",
       " 'நிலை',\n",
       " 'நிற',\n",
       " 'ு',\n",
       " 'த்திய',\n",
       " 'ிருக்கிறது',\n",
       " '.',\n",
       " '▁அந்தப்',\n",
       " '▁பண்பு',\n",
       " '▁இல்லாமல்',\n",
       " '▁நீர',\n",
       " 'ானது',\n",
       " 'ஒரு',\n",
       " 'வா',\n",
       " 'யு',\n",
       " 'வாக',\n",
       " '▁இருந்த',\n",
       " 'ிருந்தால்',\n",
       " '▁ப',\n",
       " '10',\n",
       " 'மி',\n",
       " 'எ',\n",
       " 'ப்படி',\n",
       " '▁இருந்த',\n",
       " 'ிருக்கும்',\n",
       " '.',\n",
       " '▁ஆதலால்',\n",
       " '▁நீர்',\n",
       " 'ää',\n",
       " 'ப',\n",
       " '10',\n",
       " 'மி',\n",
       " 'யில்',\n",
       " '▁உயிர',\n",
       " 'ுக்கு',\n",
       " 'ஆ',\n",
       " 'தார',\n",
       " 'ம',\n",
       " 'மாக',\n",
       " '▁இருக்கிறது',\n",
       " '.',\n",
       " '▁மழை',\n",
       " 'நீர்',\n",
       " '▁கோட்பாட்டை',\n",
       " 'ம',\n",
       " 'ுதலில்',\n",
       " '▁அறிமுகப்படுத்த',\n",
       " 'ியவர்',\n",
       " '▁ஜான்',\n",
       " '▁ஆ',\n",
       " 'ந்த',\n",
       " 'னி',\n",
       " 'ஆ',\n",
       " 'லன்',\n",
       " '▁அல்லது',\n",
       " 'டோனி',\n",
       " 'ஆ',\n",
       " 'லன்',\n",
       " '▁லண்டனில்',\n",
       " '▁கிங்',\n",
       " 'ஸ்',\n",
       " '▁கல்ல',\n",
       " 'ூ',\n",
       " 'h',\n",
       " 'யி',\n",
       " 'p',\n",
       " 'ல்',\n",
       " '▁பேராசிரியர்',\n",
       " '▁அடிப்படையில்',\n",
       " '▁அவர்',\n",
       " '.',\n",
       " '▁ஒரு',\n",
       " 'நில',\n",
       " 'வியல்',\n",
       " '▁அறிஞர்',\n",
       " '.',\n",
       " '▁மு',\n",
       " 'த்திய',\n",
       " 'கிழக்கு',\n",
       " 'நாடு',\n",
       " 'களில்',\n",
       " '▁உணவை',\n",
       " '▁இறக்குமதி',\n",
       " 'செய்வத',\n",
       " 'ு',\n",
       " '▁மூலம்',\n",
       " '▁நீல',\n",
       " 'ைச்',\n",
       " '▁சேமிக்க',\n",
       " 'லாம்',\n",
       " '▁என்று',\n",
       " 'சொ',\n",
       " 'ன்ன',\n",
       " 'வர்',\n",
       " '.',\n",
       " '▁இந்த',\n",
       " 'கோட்',\n",
       " 'பாட்டு',\n",
       " 'க்காக',\n",
       " 'அ',\n",
       " 'வருக்கு',\n",
       " '▁2008',\n",
       " 'ம்',\n",
       " '▁ஆண்டிற்கான',\n",
       " '▁ஸ்டா',\n",
       " 'க்',\n",
       " 'ஹோ',\n",
       " 'ம்',\n",
       " '▁வாட்டர்',\n",
       " '▁ப',\n",
       " 'ரை',\n",
       " 'ஸ்',\n",
       " '▁வழங்கப்பட்டது',\n",
       " '.',\n",
       " '▁நீர்',\n",
       " '▁உபயோக',\n",
       " 'ம்',\n",
       " ':',\n",
       " '▁',\n",
       " '•',\n",
       " '▁நில',\n",
       " 'நீர்',\n",
       " '▁என்பது',\n",
       " 'ப',\n",
       " '10',\n",
       " 'மி',\n",
       " 'யின்',\n",
       " '▁பரப்பில்',\n",
       " '▁அல்லது',\n",
       " 'நில',\n",
       " 'த்துக்கு',\n",
       " 'அடி',\n",
       " 'யில்',\n",
       " '▁கிடைக்க',\n",
       " 'ிற',\n",
       " 'ந',\n",
       " 'ன்ன',\n",
       " 'ீர்',\n",
       " 'ää',\n",
       " '▁ஆறு',\n",
       " 'ää',\n",
       " 'குளம்',\n",
       " 'ää',\n",
       " 'கிணறு',\n",
       " 'ää',\n",
       " 'ஏ',\n",
       " 'ரி',\n",
       " '.',\n",
       " '▁',\n",
       " '•',\n",
       " '▁பச்சை',\n",
       " 'நீர்',\n",
       " '▁என்பது',\n",
       " 'ம',\n",
       " 'ழை',\n",
       " 'நீர்',\n",
       " '▁மறை',\n",
       " 'நீர',\n",
       " 'ில்',\n",
       " '▁விவசாயம்',\n",
       " '▁சார்ந்த',\n",
       " 'த',\n",
       " 'பொரு',\n",
       " 'ட்',\n",
       " 'களுக்கு',\n",
       " 'நி',\n",
       " 'ச்ச',\n",
       " 'ய',\n",
       " 'அ',\n",
       " 'ய',\n",
       " 'சம்',\n",
       " '▁பச்சை',\n",
       " 'நீர்',\n",
       " 'க்',\n",
       " '▁கணக்கு',\n",
       " 'வரும்',\n",
       " '.',\n",
       " '▁',\n",
       " '•',\n",
       " '▁சாம்பல்',\n",
       " '▁நிற',\n",
       " 'நீர்',\n",
       " '▁என்பது',\n",
       " 'ஏ',\n",
       " 'தே',\n",
       " 'னம்',\n",
       " '▁ஒரு',\n",
       " 'கார',\n",
       " 'ணி',\n",
       " 'யால்',\n",
       " '▁மாறு',\n",
       " 'பட',\n",
       " 'ுகிற',\n",
       " 'நீர்',\n",
       " '.',\n",
       " '▁அது',\n",
       " 'ப',\n",
       " '10',\n",
       " 'ச்சி',\n",
       " 'க்கொல்லி',\n",
       " 'உ',\n",
       " 'ரம்',\n",
       " '▁என',\n",
       " 'வேளாண்',\n",
       " 'மை',\n",
       " 'சார்ந்த',\n",
       " 'தாகவோ',\n",
       " 'அல்லது',\n",
       " 'வேதி',\n",
       " 'ப்பொருள்',\n",
       " 'ää',\n",
       " 'கழ',\n",
       " 'ிவு',\n",
       " 'என',\n",
       " 'த்',\n",
       " '▁தொழிற்சாலை',\n",
       " 'சார்ந்த',\n",
       " 'தாகவும்',\n",
       " '▁இருக்கலாம்',\n",
       " '.',\n",
       " '▁ஒரு',\n",
       " 'பொருள',\n",
       " 'ின்',\n",
       " '▁உற்பத்தி',\n",
       " 'க்கு',\n",
       " 'எ',\n",
       " 'ப்படி',\n",
       " 'யும்',\n",
       " '▁எங்கே',\n",
       " 'யா',\n",
       " 'வது',\n",
       " 'நீர்',\n",
       " '▁தேவைப்படுகிறது',\n",
       " '.',\n",
       " '▁நூ',\n",
       " 'ம்',\n",
       " '▁விலை',\n",
       " 'யாக',\n",
       " 'கொ',\n",
       " 'டு',\n",
       " 'ப்பது',\n",
       " 'ப',\n",
       " 'ணம்',\n",
       " '▁மட்டுமல்ல',\n",
       " '.',\n",
       " '▁நீர',\n",
       " 'ும்',\n",
       " '▁தான்',\n",
       " '.',\n",
       " '▁',\n",
       " '•',\n",
       " '▁அரச',\n",
       " 'ானது',\n",
       " 'மறை',\n",
       " 'நீர்',\n",
       " '▁அதிகம்',\n",
       " '▁செலவ',\n",
       " 'ாகும்',\n",
       " '▁பொருட்களை',\n",
       " 'விட',\n",
       " 'க்',\n",
       " '▁குறைவாக',\n",
       " 'ச்',\n",
       " '▁செலவ',\n",
       " 'ாகும்',\n",
       " '▁பொருட்களை',\n",
       " 'ஊ',\n",
       " 'க்க',\n",
       " 'ப்படுத்த',\n",
       " 'லாம்',\n",
       " '▁அவர்களுக்கு',\n",
       " 'மா',\n",
       " 'னியம்',\n",
       " '▁அளிக்க',\n",
       " 'லாம்',\n",
       " '.',\n",
       " '▁',\n",
       " '•',\n",
       " '▁ஏற்றுமதி',\n",
       " 'வா',\n",
       " 'ணி',\n",
       " 'ப',\n",
       " 'த்தை',\n",
       " 'மட்ட',\n",
       " 'ுமே',\n",
       " 'ந',\n",
       " 'ம்',\n",
       " 'பிய',\n",
       " 'ிருக்கிற',\n",
       " 'நிலையை',\n",
       " 'மாற்ற',\n",
       " 'ிக்',\n",
       " '▁கொள்ள',\n",
       " 'வேண்டும்',\n",
       " '.',\n",
       " '▁கார்',\n",
       " '▁உற்பத்தி',\n",
       " 'போன்ற',\n",
       " 'மறை',\n",
       " 'நீர்',\n",
       " '▁முழு',\n",
       " 'ங்கி',\n",
       " 'ம',\n",
       " 'கா',\n",
       " 'தேவன்',\n",
       " 'களைக்',\n",
       " '▁கொஞ்சம்',\n",
       " '▁கட்ட',\n",
       " 'ுக்குள்',\n",
       " '▁வைக்க',\n",
       " 'வேண்டும்',\n",
       " '.',\n",
       " '▁நேரடி',\n",
       " 'பயன்',\n",
       " 'பாட்டில்',\n",
       " '▁இருக்கும்',\n",
       " '▁நீரை',\n",
       " 'முடி',\n",
       " 'ந்த',\n",
       " 'வரை',\n",
       " 'சி',\n",
       " 'க்க',\n",
       " 'ன',\n",
       " 'மாகப்',\n",
       " '▁பயன்படுத்த',\n",
       " 'வேண்டும்',\n",
       " '.',\n",
       " '▁இது',\n",
       " 'தான்',\n",
       " '▁நாட்டு',\n",
       " 'க்கும்',\n",
       " '▁நா',\n",
       " 'ம',\n",
       " 'ிருக்கும்',\n",
       " '▁ப',\n",
       " '10',\n",
       " 'மி',\n",
       " 'க்கும்',\n",
       " '▁நல்ல',\n",
       " 'து',\n",
       " '.',\n",
       " '▁ஆகவே',\n",
       " 'மறை',\n",
       " 'நீர',\n",
       " 'ைய',\n",
       " 'ம்',\n",
       " '▁கொஞ்சம்',\n",
       " '▁மனதில்',\n",
       " '▁வைப்ப',\n",
       " 'ோம்',\n",
       " '.',\n",
       " '▁</',\n",
       " 'doc',\n",
       " '>',\n",
       " '▁<',\n",
       " 'doc',\n",
       " '▁id',\n",
       " '=\"',\n",
       " '36',\n",
       " '65',\n",
       " '50\"',\n",
       " '▁',\n",
       " 'url',\n",
       " '=\"',\n",
       " 'http',\n",
       " 's',\n",
       " '://',\n",
       " 'ta',\n",
       " '.',\n",
       " 'wiki',\n",
       " 'pedia',\n",
       " '.',\n",
       " 'org',\n",
       " '/',\n",
       " 'wiki',\n",
       " '?',\n",
       " 'curi',\n",
       " 'd',\n",
       " '=',\n",
       " '36',\n",
       " '65',\n",
       " '50\"',\n",
       " '▁title',\n",
       " '=\"',\n",
       " 'மண்',\n",
       " '▁புழு',\n",
       " '▁உர',\n",
       " 'ம்',\n",
       " '▁தயாரித்த',\n",
       " 'ல்',\n",
       " '\">',\n",
       " '▁மண்',\n",
       " '▁புழு',\n",
       " '▁உர',\n",
       " 'ம்',\n",
       " '▁தயாரித்த',\n",
       " 'ல்',\n",
       " '▁மண்',\n",
       " 'பு',\n",
       " 'ழு',\n",
       " 'க்கள்',\n",
       " '▁கழிவு',\n",
       " 'களை',\n",
       " '▁ம',\n",
       " 'க்க',\n",
       " '▁செய்து',\n",
       " '▁பயிர்',\n",
       " '▁வளர்ச்சிக்கு',\n",
       " '▁தேவையான',\n",
       " '▁சத்து',\n",
       " 'க்களை',\n",
       " '▁சேர்த்து',\n",
       " '▁மண்',\n",
       " '▁வள',\n",
       " 'த்தை',\n",
       " '▁மேம்படுத்த',\n",
       " 'ுகிறது',\n",
       " '▁',\n",
       " '.',\n",
       " '▁மேலும்',\n",
       " '▁அவை',\n",
       " '▁மண்ண',\n",
       " 'ின்',\n",
       " '▁காற்ற',\n",
       " 'ோட்ட',\n",
       " 'ம்',\n",
       " '▁',\n",
       " ',',\n",
       " 'இ',\n",
       " 'யற்பியல்',\n",
       " '▁தன்மை',\n",
       " 'கள்',\n",
       " '▁',\n",
       " '.',\n",
       " 'வேதியியல்',\n",
       " '▁பண்புகள்',\n",
       " '▁மற்றும்',\n",
       " '▁உயிரின',\n",
       " '▁வளர்ச்சி',\n",
       " '▁ஆகியவற்றை',\n",
       " '▁மேம்படுத்த',\n",
       " 'ி',\n",
       " '▁பயிர்',\n",
       " '▁வளர்ச்சி',\n",
       " '▁மற்றும்',\n",
       " '▁விளைச்சல',\n",
       " 'ை',\n",
       " '▁அதிகரிக்க',\n",
       " '▁உதவுவத',\n",
       " 'ால்',\n",
       " '▁மண்',\n",
       " 'பு',\n",
       " 'ழு',\n",
       " '▁உழவர்',\n",
       " 'களின்',\n",
       " '▁நண்பன்',\n",
       " '[',\n",
       " '1',\n",
       " ']',\n",
       " '▁என்று',\n",
       " '▁',\n",
       " 'அழைக்கப்படுகிறது',\n",
       " '▁',\n",
       " '.',\n",
       " '▁மாசு',\n",
       " 'பாடு',\n",
       " 'கள்',\n",
       " '▁பெரு',\n",
       " 'கி',\n",
       " 'விட்ட',\n",
       " '▁இக்கால',\n",
       " '▁கட்டத்தில்',\n",
       " '▁மண்',\n",
       " 'பு',\n",
       " 'ழு',\n",
       " 'க்கள்',\n",
       " '▁கரிம',\n",
       " '▁மறுசுழற்சி',\n",
       " 'க்கு',\n",
       " '▁உதவுவத',\n",
       " 'ோடு',\n",
       " '▁',\n",
       " ',',\n",
       " 'இதன்',\n",
       " '▁உர',\n",
       " 'த்தை',\n",
       " '▁வேதி',\n",
       " '▁உர',\n",
       " 'ங்களுக்கு',\n",
       " '▁மாற்றாக',\n",
       " '▁சிறந்த',\n",
       " '▁இயற்',\n",
       " 'க்கை',\n",
       " '▁உர',\n",
       " 'மாகப்',\n",
       " '▁பயன்படுத்தலாம்',\n",
       " '▁நீர்',\n",
       " '▁வசதி',\n",
       " 'யுள்ள',\n",
       " '▁நிழல',\n",
       " 'ான',\n",
       " '▁இடமாக',\n",
       " 'த்',\n",
       " '▁தேர்வு',\n",
       " '▁செய்து',\n",
       " '▁நல்ல',\n",
       " '▁வடிகால்',\n",
       " '▁வசதி',\n",
       " '▁செய்துகொள்ள',\n",
       " '▁வேண்டும்',\n",
       " '▁',\n",
       " '.',\n",
       " '▁60',\n",
       " '*',\n",
       " '15',\n",
       " 'செ',\n",
       " '▁',\n",
       " '.',\n",
       " 'மீ',\n",
       " '▁அகல',\n",
       " '▁உயரம்',\n",
       " '▁மற்றும்',\n",
       " '▁வசதி',\n",
       " 'க்கேற்ப',\n",
       " '▁நீள',\n",
       " 'த்தில்',\n",
       " '▁மணல்',\n",
       " '▁அடுக்கு',\n",
       " '▁போட்டு',\n",
       " '▁',\n",
       " ',',\n",
       " '▁அதன்',\n",
       " '▁மீது',\n",
       " '▁15',\n",
       " '▁செ',\n",
       " '▁',\n",
       " '.',\n",
       " 'மீ',\n",
       " '▁உயர',\n",
       " 'த்திற்கு',\n",
       " '▁தோட்ட',\n",
       " '▁மண்',\n",
       " '▁போட',\n",
       " 'வேண்டும்',\n",
       " '▁',\n",
       " '.',\n",
       " '▁இதற்கு',\n",
       " '▁மேல்',\n",
       " '▁கழிவு',\n",
       " 'களை',\n",
       " '▁சாண',\n",
       " 'த்துடன்',\n",
       " '▁கலந்து',\n",
       " '▁15',\n",
       " '▁செ',\n",
       " '▁',\n",
       " '.',\n",
       " 'மீ',\n",
       " '▁உயர',\n",
       " 'த்திற்கு',\n",
       " '▁இட்டு',\n",
       " '▁',\n",
       " ',',\n",
       " '▁ஈரப்பத',\n",
       " 'ம்',\n",
       " '▁60',\n",
       " '-',\n",
       " '70',\n",
       " 'ச',\n",
       " 'தம்',\n",
       " '▁இருக்குமாறு',\n",
       " '▁தொடர்ந்து',\n",
       " '▁நீர்',\n",
       " '▁தெளி',\n",
       " 'த்து',\n",
       " '▁வர',\n",
       " 'வேண்டும்',\n",
       " '▁',\n",
       " '.',\n",
       " '▁இதற்கு',\n",
       " '▁மண்',\n",
       " 'பு',\n",
       " 'ழு',\n",
       " '▁உர',\n",
       " 'ப்படு',\n",
       " 'க்கை',\n",
       " '▁என்று',\n",
       " '▁பெயர்',\n",
       " '▁',\n",
       " '.',\n",
       " ...]"
      ]
     },
     "execution_count": 19,
     "metadata": {},
     "output_type": "execute_result"
    }
   ],
   "source": [
    "sp.EncodeAsPieces(text)"
   ]
  },
  {
   "cell_type": "code",
   "execution_count": null,
   "metadata": {
    "colab": {
     "base_uri": "https://localhost:8080/",
     "height": 1745
    },
    "colab_type": "code",
    "id": "tks0pUK7mawy",
    "outputId": "84956888-c2b1-4757-e34e-047383822a83"
   },
   "outputs": [],
   "source": [
    "!head -50 tamil_lm_8k.vocab"
   ]
  },
  {
   "cell_type": "markdown",
   "metadata": {
    "colab_type": "text",
    "id": "NgzT7gOlmw-7"
   },
   "source": [
    "## Section 3. Build Language Model from Wiki-ta using fastai and SPM\n"
   ]
  },
  {
   "cell_type": "code",
   "execution_count": 21,
   "metadata": {
    "colab": {},
    "colab_type": "code",
    "collapsed": true,
    "id": "B2PX5-Ysmg_Y"
   },
   "outputs": [],
   "source": [
    "%reload_ext autoreload\n",
    "%autoreload 2\n",
    "%matplotlib inline"
   ]
  },
  {
   "cell_type": "code",
   "execution_count": 65,
   "metadata": {},
   "outputs": [
    {
     "name": "stdout",
     "output_type": "stream",
     "text": [
      "Collecting fastai\n",
      "\u001b[?25l  Downloading https://files.pythonhosted.org/packages/37/25/9a07ca0e7710d97e595dd5b437324fdaeaa6812affeb8d609607e7e022e4/fastai-1.0.50.post1-py3-none-any.whl (212kB)\n",
      "\u001b[K    100% |████████████████████████████████| 215kB 14.3MB/s ta 0:00:01\n",
      "\u001b[?25hCollecting fastprogress>=0.1.19 (from fastai)\n",
      "  Downloading https://files.pythonhosted.org/packages/86/30/01f597392e4e7b4982f387028da941e1fd60a8d53511d17225858d87fb22/fastprogress-0.1.20-py3-none-any.whl\n",
      "Requirement already satisfied, skipping upgrade: pandas in /opt/anaconda3/lib/python3.7/site-packages (from fastai) (0.23.4)\n",
      "Requirement already satisfied, skipping upgrade: numpy>=1.15 in /opt/anaconda3/lib/python3.7/site-packages (from fastai) (1.15.4)\n",
      "Requirement already satisfied, skipping upgrade: packaging in /opt/anaconda3/lib/python3.7/site-packages (from fastai) (18.0)\n",
      "Requirement already satisfied, skipping upgrade: Pillow in /opt/anaconda3/lib/python3.7/site-packages (from fastai) (5.3.0)\n",
      "Requirement already satisfied, skipping upgrade: scipy in /opt/anaconda3/lib/python3.7/site-packages (from fastai) (1.1.0)\n",
      "Requirement already satisfied, skipping upgrade: numexpr in /opt/anaconda3/lib/python3.7/site-packages (from fastai) (2.6.8)\n",
      "Requirement already satisfied, skipping upgrade: torch>=1.0.0 in /opt/anaconda3/lib/python3.7/site-packages (from fastai) (1.0.0)\n",
      "Requirement already satisfied, skipping upgrade: bottleneck in /opt/anaconda3/lib/python3.7/site-packages (from fastai) (1.2.1)\n",
      "Requirement already satisfied, skipping upgrade: spacy>=2.0.18 in /opt/anaconda3/lib/python3.7/site-packages (from fastai) (2.0.18)\n",
      "Requirement already satisfied, skipping upgrade: requests in /opt/anaconda3/lib/python3.7/site-packages (from fastai) (2.21.0)\n",
      "Collecting nvidia-ml-py3 (from fastai)\n",
      "Requirement already satisfied, skipping upgrade: pyyaml in /opt/anaconda3/lib/python3.7/site-packages (from fastai) (3.13)\n",
      "Requirement already satisfied, skipping upgrade: beautifulsoup4 in /opt/anaconda3/lib/python3.7/site-packages (from fastai) (4.6.3)\n",
      "Requirement already satisfied, skipping upgrade: torchvision in /opt/anaconda3/lib/python3.7/site-packages (from fastai) (0.2.1)\n",
      "Requirement already satisfied, skipping upgrade: matplotlib in /opt/anaconda3/lib/python3.7/site-packages (from fastai) (3.0.2)\n",
      "Requirement already satisfied, skipping upgrade: typing in /opt/anaconda3/lib/python3.7/site-packages (from fastai) (3.6.4)\n",
      "Requirement already satisfied, skipping upgrade: python-dateutil>=2.5.0 in /opt/anaconda3/lib/python3.7/site-packages (from pandas->fastai) (2.7.5)\n",
      "Requirement already satisfied, skipping upgrade: pytz>=2011k in /opt/anaconda3/lib/python3.7/site-packages (from pandas->fastai) (2018.7)\n",
      "Requirement already satisfied, skipping upgrade: pyparsing>=2.0.2 in /opt/anaconda3/lib/python3.7/site-packages (from packaging->fastai) (2.3.0)\n",
      "Requirement already satisfied, skipping upgrade: six in /opt/anaconda3/lib/python3.7/site-packages (from packaging->fastai) (1.12.0)\n",
      "Requirement already satisfied, skipping upgrade: murmurhash<1.1.0,>=0.28.0 in /opt/anaconda3/lib/python3.7/site-packages (from spacy>=2.0.18->fastai) (1.0.1)\n",
      "Requirement already satisfied, skipping upgrade: cymem<2.1.0,>=2.0.2 in /opt/anaconda3/lib/python3.7/site-packages (from spacy>=2.0.18->fastai) (2.0.2)\n",
      "Requirement already satisfied, skipping upgrade: preshed<2.1.0,>=2.0.1 in /opt/anaconda3/lib/python3.7/site-packages (from spacy>=2.0.18->fastai) (2.0.1)\n",
      "Requirement already satisfied, skipping upgrade: thinc<6.13.0,>=6.12.1 in /opt/anaconda3/lib/python3.7/site-packages (from spacy>=2.0.18->fastai) (6.12.1)\n",
      "Requirement already satisfied, skipping upgrade: plac<1.0.0,>=0.9.6 in /opt/anaconda3/lib/python3.7/site-packages (from spacy>=2.0.18->fastai) (0.9.6)\n",
      "Requirement already satisfied, skipping upgrade: ujson>=1.35 in /opt/anaconda3/lib/python3.7/site-packages (from spacy>=2.0.18->fastai) (1.35)\n",
      "Requirement already satisfied, skipping upgrade: dill<0.3,>=0.2 in /opt/anaconda3/lib/python3.7/site-packages (from spacy>=2.0.18->fastai) (0.2.8.2)\n",
      "Requirement already satisfied, skipping upgrade: regex==2018.01.10 in /opt/anaconda3/lib/python3.7/site-packages (from spacy>=2.0.18->fastai) (2018.1.10)\n",
      "Requirement already satisfied, skipping upgrade: idna<2.9,>=2.5 in /opt/anaconda3/lib/python3.7/site-packages (from requests->fastai) (2.8)\n",
      "Requirement already satisfied, skipping upgrade: certifi>=2017.4.17 in /opt/anaconda3/lib/python3.7/site-packages (from requests->fastai) (2018.11.29)\n",
      "Requirement already satisfied, skipping upgrade: chardet<3.1.0,>=3.0.2 in /opt/anaconda3/lib/python3.7/site-packages (from requests->fastai) (3.0.4)\n",
      "Requirement already satisfied, skipping upgrade: urllib3<1.25,>=1.21.1 in /opt/anaconda3/lib/python3.7/site-packages (from requests->fastai) (1.24.1)\n",
      "Requirement already satisfied, skipping upgrade: cycler>=0.10 in /opt/anaconda3/lib/python3.7/site-packages (from matplotlib->fastai) (0.10.0)\n",
      "Requirement already satisfied, skipping upgrade: kiwisolver>=1.0.1 in /opt/anaconda3/lib/python3.7/site-packages (from matplotlib->fastai) (1.0.1)\n",
      "Requirement already satisfied, skipping upgrade: msgpack<0.6.0,>=0.5.6 in /opt/anaconda3/lib/python3.7/site-packages (from thinc<6.13.0,>=6.12.1->spacy>=2.0.18->fastai) (0.5.6)\n",
      "Requirement already satisfied, skipping upgrade: msgpack-numpy<0.4.4 in /opt/anaconda3/lib/python3.7/site-packages (from thinc<6.13.0,>=6.12.1->spacy>=2.0.18->fastai) (0.4.3.2)\n",
      "Requirement already satisfied, skipping upgrade: cytoolz<0.10,>=0.9.0 in /opt/anaconda3/lib/python3.7/site-packages (from thinc<6.13.0,>=6.12.1->spacy>=2.0.18->fastai) (0.9.0.1)\n",
      "Requirement already satisfied, skipping upgrade: wrapt<1.11.0,>=1.10.0 in /opt/anaconda3/lib/python3.7/site-packages (from thinc<6.13.0,>=6.12.1->spacy>=2.0.18->fastai) (1.10.11)\n",
      "Requirement already satisfied, skipping upgrade: tqdm<5.0.0,>=4.10.0 in /opt/anaconda3/lib/python3.7/site-packages (from thinc<6.13.0,>=6.12.1->spacy>=2.0.18->fastai) (4.28.1)\n",
      "Requirement already satisfied, skipping upgrade: setuptools in /opt/anaconda3/lib/python3.7/site-packages (from kiwisolver>=1.0.1->matplotlib->fastai) (40.6.3)\n",
      "Requirement already satisfied, skipping upgrade: toolz>=0.8.0 in /opt/anaconda3/lib/python3.7/site-packages (from cytoolz<0.10,>=0.9.0->thinc<6.13.0,>=6.12.1->spacy>=2.0.18->fastai) (0.9.0)\n",
      "Installing collected packages: fastprogress, nvidia-ml-py3, fastai\n",
      "Successfully installed fastai-1.0.50.post1 fastprogress-0.1.20 nvidia-ml-py3-7.352.0\n"
     ]
    }
   ],
   "source": [
    "!pip install fastai --upgrade --user"
   ]
  },
  {
   "cell_type": "code",
   "execution_count": 22,
   "metadata": {
    "colab": {},
    "colab_type": "code",
    "collapsed": true,
    "id": "y8jnu89DnBtB"
   },
   "outputs": [],
   "source": [
    "from fastai.text import *\n",
    "import numpy as np\n",
    "from sklearn.model_selection import train_test_split\n",
    "import pickle\n",
    "import sentencepiece as spm"
   ]
  },
  {
   "cell_type": "code",
   "execution_count": 23,
   "metadata": {
    "colab": {
     "base_uri": "https://localhost:8080/",
     "height": 35
    },
    "colab_type": "code",
    "id": "Grnm1xnJnDz4",
    "outputId": "2cd3868c-3918-4184-995d-150373f38916"
   },
   "outputs": [
    {
     "data": {
      "text/plain": [
       "('1.0.50.post1', '1.0.0')"
      ]
     },
     "execution_count": 23,
     "metadata": {},
     "output_type": "execute_result"
    }
   ],
   "source": [
    "import fastai, torch\n",
    "fastai.__version__ , torch.__version__"
   ]
  },
  {
   "cell_type": "code",
   "execution_count": 24,
   "metadata": {
    "colab": {},
    "colab_type": "code",
    "collapsed": true,
    "id": "zjVLJcJFnGk5"
   },
   "outputs": [],
   "source": [
    "torch.cuda.set_device(0)"
   ]
  },
  {
   "cell_type": "code",
   "execution_count": 26,
   "metadata": {
    "colab": {},
    "colab_type": "code",
    "collapsed": true,
    "id": "lN60HogbnJvI"
   },
   "outputs": [],
   "source": [
    "path = Path('.')"
   ]
  },
  {
   "cell_type": "code",
   "execution_count": 27,
   "metadata": {
    "colab": {
     "base_uri": "https://localhost:8080/",
     "height": 35
    },
    "colab_type": "code",
    "id": "iR9sJEytnNYX",
    "outputId": "c18a788f-70b3-4db2-c1cd-3b9b3b354367"
   },
   "outputs": [
    {
     "data": {
      "text/plain": [
       "444"
      ]
     },
     "execution_count": 27,
     "metadata": {},
     "output_type": "execute_result"
    }
   ],
   "source": [
    "p = path.glob('text/*/*')\n",
    "files = [str(x) for x in p if x.is_file()]\n",
    "len(files)"
   ]
  },
  {
   "cell_type": "code",
   "execution_count": 101,
   "metadata": {
    "colab": {},
    "colab_type": "code",
    "collapsed": true,
    "id": "VJZRIcK6nbnL"
   },
   "outputs": [],
   "source": [
    "train_files, test_files = train_test_split(files[:200], test_size=0.2)"
   ]
  },
  {
   "cell_type": "code",
   "execution_count": 102,
   "metadata": {
    "colab": {
     "base_uri": "https://localhost:8080/",
     "height": 35
    },
    "colab_type": "code",
    "id": "hcDJVUhJny9W",
    "outputId": "480c75cd-7f1d-487c-df73-3d272baad333"
   },
   "outputs": [
    {
     "data": {
      "text/plain": [
       "(160, 40)"
      ]
     },
     "execution_count": 102,
     "metadata": {},
     "output_type": "execute_result"
    }
   ],
   "source": [
    "len(train_files), len(test_files)"
   ]
  },
  {
   "cell_type": "code",
   "execution_count": 103,
   "metadata": {
    "colab": {},
    "colab_type": "code",
    "collapsed": true,
    "id": "Ik0ciqcBoGKy"
   },
   "outputs": [],
   "source": [
    "!mkdir TamilDataset200\n",
    "!mkdir TamilDataset200/train\n",
    "!mkdir TamilDataset200/valid"
   ]
  },
  {
   "cell_type": "code",
   "execution_count": 104,
   "metadata": {
    "colab": {},
    "colab_type": "code",
    "collapsed": true,
    "id": "dkDkZNiOn2YN"
   },
   "outputs": [],
   "source": [
    "# Preparing dataset for fastai\n",
    "for file in train_files:\n",
    "    with open(file, encoding='utf-8') as f:\n",
    "        text = f.read()\n",
    "    with open(path/'TamilDataset200'/'train'/(str(file).split('/')[-1]+'.txt'), \"w\") as text_file:\n",
    "        text_file.write(text)"
   ]
  },
  {
   "cell_type": "code",
   "execution_count": 105,
   "metadata": {
    "colab": {
     "base_uri": "https://localhost:8080/",
     "height": 1745
    },
    "colab_type": "code",
    "collapsed": true,
    "id": "nkC4YEJSoMXA",
    "outputId": "d7b3b47c-65b6-49b1-8483-2af693ba9d1e"
   },
   "outputs": [],
   "source": [
    "#!ls -ltr TamilDataset/train/"
   ]
  },
  {
   "cell_type": "code",
   "execution_count": 106,
   "metadata": {
    "colab": {},
    "colab_type": "code",
    "collapsed": true,
    "id": "6dfzJHzNoSff"
   },
   "outputs": [],
   "source": [
    "for file in test_files:\n",
    "    with open(file, encoding='utf-8') as f:\n",
    "        text = f.read()\n",
    "    with open(path/'TamilDataset200'/'valid'/(str(file).split('/')[-1]+'.txt'), \"w\") as text_file:\n",
    "        text_file.write(text)"
   ]
  },
  {
   "cell_type": "code",
   "execution_count": 70,
   "metadata": {
    "colab": {},
    "colab_type": "code",
    "collapsed": true,
    "id": "Kyp1ntASod9d"
   },
   "outputs": [],
   "source": [
    "class TamilTokenizer(BaseTokenizer):\n",
    "    def __init__(self, lang:str):\n",
    "        self.lang = lang\n",
    "        self.sp = spm.SentencePieceProcessor()\n",
    "        self.sp.Load(str(path/\"tamil_lm_8k.model\"))\n",
    "        \n",
    "    def tokenizer(self, t:str) -> List[str]:\n",
    "        return self.sp.EncodeAsPieces(t)"
   ]
  },
  {
   "cell_type": "code",
   "execution_count": 71,
   "metadata": {
    "colab": {},
    "colab_type": "code",
    "collapsed": true,
    "id": "V5PFgPbLolhr"
   },
   "outputs": [],
   "source": [
    "sp = spm.SentencePieceProcessor()\n",
    "sp.Load(str(path/\"tamil_lm_8k.model\"))\n",
    "itos = [sp.IdToPiece(int(i)) for i in range(8000)]"
   ]
  },
  {
   "cell_type": "code",
   "execution_count": 30,
   "metadata": {
    "colab": {},
    "colab_type": "code",
    "collapsed": true,
    "id": "zmN-WVq3op9a"
   },
   "outputs": [],
   "source": [
    "#itos"
   ]
  },
  {
   "cell_type": "code",
   "execution_count": 72,
   "metadata": {
    "colab": {},
    "colab_type": "code",
    "collapsed": true,
    "id": "5gtnD-okorAR"
   },
   "outputs": [],
   "source": [
    "tamil_vocab = Vocab(itos)"
   ]
  },
  {
   "cell_type": "code",
   "execution_count": 73,
   "metadata": {
    "colab": {},
    "colab_type": "code",
    "collapsed": true,
    "id": "46wIzsm_pCgk"
   },
   "outputs": [],
   "source": [
    "tokenizer = Tokenizer(tok_func=TamilTokenizer, lang='ta')"
   ]
  },
  {
   "cell_type": "code",
   "execution_count": 74,
   "metadata": {
    "colab": {
     "base_uri": "https://localhost:8080/",
     "height": 35
    },
    "colab_type": "code",
    "id": "8VFukVAipIfj",
    "outputId": "46076ac8-2c50-49a2-b5d5-f934d3dd0a4f"
   },
   "outputs": [
    {
     "data": {
      "text/plain": [
       "['xxunk',\n",
       " 'xxpad',\n",
       " 'xxbos',\n",
       " 'xxeos',\n",
       " 'xxfld',\n",
       " 'xxmaj',\n",
       " 'xxup',\n",
       " 'xxrep',\n",
       " 'xxwrep']"
      ]
     },
     "execution_count": 74,
     "metadata": {},
     "output_type": "execute_result"
    }
   ],
   "source": [
    "tokenizer.special_cases"
   ]
  },
  {
   "cell_type": "code",
   "execution_count": 75,
   "metadata": {
    "colab": {},
    "colab_type": "code",
    "collapsed": true,
    "id": "27mkuLLHpOGy"
   },
   "outputs": [],
   "source": [
    "data_lm = TextLMDataBunch.from_folder(path=path/'TamilDataset200', tokenizer=tokenizer, vocab=tamil_vocab)"
   ]
  },
  {
   "cell_type": "code",
   "execution_count": 76,
   "metadata": {
    "colab": {
     "base_uri": "https://localhost:8080/",
     "height": 35
    },
    "colab_type": "code",
    "id": "kIALPhGSpR6i",
    "outputId": "cc62094f-040e-4ef4-85cd-d5e13e6d4be6"
   },
   "outputs": [
    {
     "data": {
      "text/plain": [
       "64"
      ]
     },
     "execution_count": 76,
     "metadata": {},
     "output_type": "execute_result"
    }
   ],
   "source": [
    "data_lm.batch_size"
   ]
  },
  {
   "cell_type": "code",
   "execution_count": 77,
   "metadata": {
    "colab": {},
    "colab_type": "code",
    "collapsed": true,
    "id": "LJJUt5e7pVHY"
   },
   "outputs": [],
   "source": [
    "data_lm.save()"
   ]
  },
  {
   "cell_type": "code",
   "execution_count": 78,
   "metadata": {
    "colab": {
     "base_uri": "https://localhost:8080/",
     "height": 354
    },
    "colab_type": "code",
    "id": "sRXTWQA7pXjg",
    "outputId": "c6f03693-46e4-444a-cda2-243a5cff18d4"
   },
   "outputs": [
    {
     "data": {
      "text/html": [
       "<table border=\"1\" class=\"dataframe\">\n",
       "  <thead>\n",
       "    <tr style=\"text-align: right;\">\n",
       "      <th>idx</th>\n",
       "      <th>text</th>\n",
       "    </tr>\n",
       "  </thead>\n",
       "  <tbody>\n",
       "    <tr>\n",
       "      <td>0</td>\n",
       "      <td>▁மிகப்பெரிய ▁நகர மும் ▁ஆகும் . ▁இது ▁தெற்கு ▁பின்லாந்த ின் ▁பால் டிக் ▁கடல ின் ▁பின்லாந்த ு ▁வளைகுடா வின் ▁கடற்கரை யில் ▁அமைந்துள்ளது . ▁இந்நகர த்தின் ▁ம க்கட்ட ொ கை ▁சுமார் ▁5 64 , 90 8 ▁ஆகும் ▁( 31 ▁ஜனவரி ▁2007 ▁இன் ▁படி ) . ▁ஏறத்தாழ ▁பின்லாந்த ில் ▁10 ல் ▁ஒருவர் ▁இந் ▁நகரத்தில் ▁வாழ்கின்றனர் . ▁ஹெ ல் சி ங்கி ▁மற்றும் ▁அருகில் ▁உள்ள ▁நகர் களான ▁ யெ ஸ் ப்பூ , ▁வன் டா ▁மற்றும்</td>\n",
       "    </tr>\n",
       "    <tr>\n",
       "      <td>1</td>\n",
       "      <td>▁2011 ▁சட்டமன்றத் ▁தேர்தலில் ▁போட்டியிட்டு ▁வெற்றி வாய் ப்பை ▁இழந்த ுள்ளார் . ▁மருத்துவர் ▁அருள் மணி ▁புது கோ ட்டை ▁மாவட்டம் , ▁கீ ர மங்கலம் ▁தா லு கா ▁சே ந்த ன் குடி யைச் ▁சேர்ந்தவர் . ▁தந்தை ▁சுப்பிரமணிய ன் ▁ஆசிரியர் . ▁மருத்துவ ப் ▁படிப்ப ில் ▁உயர் ▁கல்வி ▁பெற்று , ▁அற ந்தா ங்கி யில் ▁' அ ம் மன் ▁மரு த்த வ ▁ம னை ' ▁என்ற ▁பெயரில் ▁மருத்துவமனை ▁நடத்தி ▁வருகிறார் . ▁&lt; ▁ / ▁ doc</td>\n",
       "    </tr>\n",
       "    <tr>\n",
       "      <td>2</td>\n",
       "      <td>▁பந்த ினை ▁கை க்கொள்ள ▁முயன்ற ப் போது , ▁இந்த ▁நிகழ்ச்சி ▁நடு வர் ▁ஹோ ரா சியோ ▁எலி சோ ண்டோ வின் ▁நேர் ▁முன்பாக ▁நிகழ்ந்த து . ▁ரூ னி யின் ▁யுனைடெட் ▁அணி ▁ச கா ▁கிறிஸ் டியா னோ ▁ரோ னால் டோ ▁வெளிப்படையாக ▁அவரது ▁செயல ைக் ▁எதிர் த்தார் , ▁ரூ னி ▁திரும்ப ▁அவரை ▁முன்ன ுக்கு த் ▁தள்ள ினார் . ▁எலி சோ ண்டோ ▁ரூ னி யை ▁வெளியே ▁அனுப்ப ினார் , ▁அதன் ▁பிறகு ▁ரோ னால் டோ</td>\n",
       "    </tr>\n",
       "    <tr>\n",
       "      <td>3</td>\n",
       "      <td>▁&lt; doc ▁id =\" 12 56 33\" ▁ url =\" http s : ▁ / ▁ / ▁ ta . wiki pedia . org ▁ / ▁ wiki ? curi d = 12 56 33\" ▁title =\" லெ னர் ட் ▁பே ட்ஸ் \"&gt; ▁லெ னர் ட் ▁பே ட்ஸ் ▁லெ னர் ட் ▁பே ட்ஸ் ▁(\" l e on ard &lt;unk&gt; ▁b ate s \", ▁பிறப்பு : ▁மார்ச்சு ▁20 ▁18 95</td>\n",
       "    </tr>\n",
       "    <tr>\n",
       "      <td>4</td>\n",
       "      <td>▁c ▁= ▁2 &lt;unk&gt; ▁என் க . ▁இ க்கோ ணம் ▁இரு சம க் கூற ிட ப்படுவதால் : ▁ஒரு ▁முக்கோண த்தின் ▁மூன்று ▁கோண ங்களின் ▁கூடுதல் ▁18 0 ° ▁என்பதால் , ▁முக்கோண ம் &lt;unk&gt; &lt;unk&gt; c ▁- ன் ▁மூன்று ▁கோண ங்களின் ▁கூடுதல் : ▁முக்கோண ம் &lt;unk&gt; &lt;unk&gt; c ▁- ன் ▁கோண ங்கள் : ▁ 36 ° - 72 ° - 72 ° . ▁விரி கோண ▁இரு சம பக்க ▁முக்கோண ம் &lt;unk&gt;</td>\n",
       "    </tr>\n",
       "  </tbody>\n",
       "</table>"
      ],
      "text/plain": [
       "<IPython.core.display.HTML object>"
      ]
     },
     "metadata": {},
     "output_type": "display_data"
    }
   ],
   "source": [
    "data_lm.show_batch()"
   ]
  },
  {
   "cell_type": "code",
   "execution_count": 79,
   "metadata": {
    "colab": {
     "base_uri": "https://localhost:8080/",
     "height": 35
    },
    "colab_type": "code",
    "id": "vVI3riA8paS3",
    "outputId": "44cb0ed1-f886-4855-a9a6-7c2bc1b36ac7"
   },
   "outputs": [
    {
     "data": {
      "text/plain": [
       "8000"
      ]
     },
     "execution_count": 79,
     "metadata": {},
     "output_type": "execute_result"
    }
   ],
   "source": [
    "len(data_lm.vocab.itos)"
   ]
  },
  {
   "cell_type": "markdown",
   "metadata": {},
   "source": [
    "# Section 4. Train it"
   ]
  },
  {
   "cell_type": "code",
   "execution_count": 82,
   "metadata": {
    "colab": {},
    "colab_type": "code",
    "collapsed": true,
    "id": "Y1r5RCuypjsG"
   },
   "outputs": [],
   "source": [
    "learn = language_model_learner(data_lm, AWD_LSTM, drop_mult=0.3)"
   ]
  },
  {
   "cell_type": "code",
   "execution_count": 83,
   "metadata": {
    "colab": {
     "base_uri": "https://localhost:8080/",
     "height": 35
    },
    "colab_type": "code",
    "id": "0yybfjejprBU",
    "outputId": "23ecb2cb-72e7-49dd-af0e-3923c808f337"
   },
   "outputs": [
    {
     "data": {
      "text/plain": [
       "1024"
      ]
     },
     "execution_count": 83,
     "metadata": {},
     "output_type": "execute_result"
    }
   ],
   "source": [
    "gc.collect()"
   ]
  },
  {
   "cell_type": "code",
   "execution_count": 84,
   "metadata": {
    "colab": {
     "base_uri": "https://localhost:8080/",
     "height": 35
    },
    "colab_type": "code",
    "id": "qXYCz5voqodX",
    "outputId": "44c6e6c9-3ed0-45ff-b64a-4539d84e8636"
   },
   "outputs": [
    {
     "data": {
      "text/html": [],
      "text/plain": [
       "<IPython.core.display.HTML object>"
      ]
     },
     "metadata": {},
     "output_type": "display_data"
    },
    {
     "name": "stdout",
     "output_type": "stream",
     "text": [
      "LR Finder is complete, type {learner_name}.recorder.plot() to see the graph.\n"
     ]
    }
   ],
   "source": [
    "learn.lr_find()"
   ]
  },
  {
   "cell_type": "code",
   "execution_count": 85,
   "metadata": {
    "colab": {
     "base_uri": "https://localhost:8080/",
     "height": 279
    },
    "colab_type": "code",
    "id": "OjGZ5zP4qrat",
    "outputId": "9d5fd923-df92-4f35-f0b1-6bd8bb3e6a55"
   },
   "outputs": [
    {
     "data": {
      "image/png": "[encoded data removed]",
      "text/plain": [
       "<Figure size 432x288 with 1 Axes>"
      ]
     },
     "metadata": {
      "needs_background": "light"
     },
     "output_type": "display_data"
    }
   ],
   "source": [
    "learn.recorder.plot()"
   ]
  },
  {
   "cell_type": "code",
   "execution_count": 86,
   "metadata": {
    "colab": {
     "base_uri": "https://localhost:8080/",
     "height": 101
    },
    "colab_type": "code",
    "id": "TD26zizeqtw0",
    "outputId": "47e17505-144c-45cf-c323-131e056b33d2"
   },
   "outputs": [
    {
     "data": {
      "text/html": [
       "Total time: 20:57 <p><table border=\"1\" class=\"dataframe\">\n",
       "  <thead>\n",
       "    <tr style=\"text-align: left;\">\n",
       "      <th>epoch</th>\n",
       "      <th>train_loss</th>\n",
       "      <th>valid_loss</th>\n",
       "      <th>accuracy</th>\n",
       "      <th>time</th>\n",
       "    </tr>\n",
       "  </thead>\n",
       "  <tbody>\n",
       "    <tr>\n",
       "      <td>0</td>\n",
       "      <td>4.976160</td>\n",
       "      <td>4.796425</td>\n",
       "      <td>0.238848</td>\n",
       "      <td>20:57</td>\n",
       "    </tr>\n",
       "  </tbody>\n",
       "</table>"
      ],
      "text/plain": [
       "<IPython.core.display.HTML object>"
      ]
     },
     "metadata": {},
     "output_type": "display_data"
    }
   ],
   "source": [
    "learn.fit_one_cycle(1, 1e-2, moms=(0.8,0.7))"
   ]
  },
  {
   "cell_type": "code",
   "execution_count": 87,
   "metadata": {
    "colab": {},
    "colab_type": "code",
    "collapsed": true,
    "id": "nZXPvFvYq6fq"
   },
   "outputs": [],
   "source": [
    "learn.save('first', with_opt=True)"
   ]
  },
  {
   "cell_type": "code",
   "execution_count": 88,
   "metadata": {
    "colab": {},
    "colab_type": "code",
    "collapsed": true,
    "id": "8IvrTR9Bq-_5"
   },
   "outputs": [],
   "source": [
    "learn.load('first', with_opt=True);"
   ]
  },
  {
   "cell_type": "code",
   "execution_count": 89,
   "metadata": {
    "colab": {},
    "colab_type": "code",
    "collapsed": true,
    "id": "cjr8tciMrA7g"
   },
   "outputs": [],
   "source": [
    "learn.unfreeze()"
   ]
  },
  {
   "cell_type": "code",
   "execution_count": 90,
   "metadata": {
    "colab": {
     "base_uri": "https://localhost:8080/",
     "height": 221
    },
    "colab_type": "code",
    "id": "hpRsAQbkrItO",
    "outputId": "7b1203a1-2a9c-4bfa-a0f7-62f137880bdb"
   },
   "outputs": [
    {
     "data": {
      "text/html": [
       "Total time: 2:10:33 <p><table border=\"1\" class=\"dataframe\">\n",
       "  <thead>\n",
       "    <tr style=\"text-align: left;\">\n",
       "      <th>epoch</th>\n",
       "      <th>train_loss</th>\n",
       "      <th>valid_loss</th>\n",
       "      <th>accuracy</th>\n",
       "      <th>time</th>\n",
       "    </tr>\n",
       "  </thead>\n",
       "  <tbody>\n",
       "    <tr>\n",
       "      <td>0</td>\n",
       "      <td>4.168198</td>\n",
       "      <td>4.422420</td>\n",
       "      <td>0.273664</td>\n",
       "      <td>26:14</td>\n",
       "    </tr>\n",
       "    <tr>\n",
       "      <td>1</td>\n",
       "      <td>4.158468</td>\n",
       "      <td>4.241174</td>\n",
       "      <td>0.291059</td>\n",
       "      <td>26:07</td>\n",
       "    </tr>\n",
       "    <tr>\n",
       "      <td>2</td>\n",
       "      <td>3.920514</td>\n",
       "      <td>4.004230</td>\n",
       "      <td>0.317659</td>\n",
       "      <td>26:00</td>\n",
       "    </tr>\n",
       "    <tr>\n",
       "      <td>3</td>\n",
       "      <td>3.697713</td>\n",
       "      <td>3.772478</td>\n",
       "      <td>0.344701</td>\n",
       "      <td>26:03</td>\n",
       "    </tr>\n",
       "    <tr>\n",
       "      <td>4</td>\n",
       "      <td>3.598254</td>\n",
       "      <td>3.704702</td>\n",
       "      <td>0.354343</td>\n",
       "      <td>26:07</td>\n",
       "    </tr>\n",
       "  </tbody>\n",
       "</table>"
      ],
      "text/plain": [
       "<IPython.core.display.HTML object>"
      ]
     },
     "metadata": {},
     "output_type": "display_data"
    }
   ],
   "source": [
    "learn.fit_one_cycle(5, 1e-2, moms=(0.8,0.7))"
   ]
  },
  {
   "cell_type": "code",
   "execution_count": 91,
   "metadata": {
    "colab": {},
    "colab_type": "code",
    "collapsed": true,
    "id": "EQ7GEC2W3BDW"
   },
   "outputs": [],
   "source": [
    "learn.save('second_hi_lm', with_opt=True)"
   ]
  },
  {
   "cell_type": "code",
   "execution_count": 92,
   "metadata": {
    "colab": {},
    "colab_type": "code",
    "collapsed": true,
    "id": "UGegtbfq3Dzs"
   },
   "outputs": [],
   "source": [
    "learn.load('second_hi_lm', with_opt=True);"
   ]
  },
  {
   "cell_type": "code",
   "execution_count": 103,
   "metadata": {
    "colab": {
     "base_uri": "https://localhost:8080/",
     "height": 1498
    },
    "colab_type": "code",
    "id": "Jq0tUpNO5AcT",
    "outputId": "62d4657b-6238-4715-ee47-480425c1850d"
   },
   "outputs": [
    {
     "data": {
      "text/html": [
       "Total time: 8:43:36 <p><table border=\"1\" class=\"dataframe\">\n",
       "  <thead>\n",
       "    <tr style=\"text-align: left;\">\n",
       "      <th>epoch</th>\n",
       "      <th>train_loss</th>\n",
       "      <th>valid_loss</th>\n",
       "      <th>accuracy</th>\n",
       "      <th>time</th>\n",
       "    </tr>\n",
       "  </thead>\n",
       "  <tbody>\n",
       "    <tr>\n",
       "      <td>0</td>\n",
       "      <td>3.418257</td>\n",
       "      <td>3.703921</td>\n",
       "      <td>0.354770</td>\n",
       "      <td>26:03</td>\n",
       "    </tr>\n",
       "    <tr>\n",
       "      <td>1</td>\n",
       "      <td>3.385896</td>\n",
       "      <td>3.699066</td>\n",
       "      <td>0.355450</td>\n",
       "      <td>26:04</td>\n",
       "    </tr>\n",
       "    <tr>\n",
       "      <td>2</td>\n",
       "      <td>3.502406</td>\n",
       "      <td>3.692003</td>\n",
       "      <td>0.356158</td>\n",
       "      <td>26:06</td>\n",
       "    </tr>\n",
       "    <tr>\n",
       "      <td>3</td>\n",
       "      <td>3.437326</td>\n",
       "      <td>3.685202</td>\n",
       "      <td>0.357103</td>\n",
       "      <td>26:08</td>\n",
       "    </tr>\n",
       "    <tr>\n",
       "      <td>4</td>\n",
       "      <td>3.534894</td>\n",
       "      <td>3.679254</td>\n",
       "      <td>0.357922</td>\n",
       "      <td>26:08</td>\n",
       "    </tr>\n",
       "    <tr>\n",
       "      <td>5</td>\n",
       "      <td>3.405038</td>\n",
       "      <td>3.672608</td>\n",
       "      <td>0.358669</td>\n",
       "      <td>26:07</td>\n",
       "    </tr>\n",
       "    <tr>\n",
       "      <td>6</td>\n",
       "      <td>3.407530</td>\n",
       "      <td>3.666891</td>\n",
       "      <td>0.360012</td>\n",
       "      <td>26:07</td>\n",
       "    </tr>\n",
       "    <tr>\n",
       "      <td>7</td>\n",
       "      <td>3.465725</td>\n",
       "      <td>3.656222</td>\n",
       "      <td>0.361099</td>\n",
       "      <td>26:09</td>\n",
       "    </tr>\n",
       "    <tr>\n",
       "      <td>8</td>\n",
       "      <td>3.272799</td>\n",
       "      <td>3.650724</td>\n",
       "      <td>0.362004</td>\n",
       "      <td>26:12</td>\n",
       "    </tr>\n",
       "    <tr>\n",
       "      <td>9</td>\n",
       "      <td>3.349825</td>\n",
       "      <td>3.644597</td>\n",
       "      <td>0.362977</td>\n",
       "      <td>26:07</td>\n",
       "    </tr>\n",
       "    <tr>\n",
       "      <td>10</td>\n",
       "      <td>3.202466</td>\n",
       "      <td>3.638479</td>\n",
       "      <td>0.363794</td>\n",
       "      <td>26:13</td>\n",
       "    </tr>\n",
       "    <tr>\n",
       "      <td>11</td>\n",
       "      <td>3.422501</td>\n",
       "      <td>3.632713</td>\n",
       "      <td>0.364781</td>\n",
       "      <td>26:12</td>\n",
       "    </tr>\n",
       "    <tr>\n",
       "      <td>12</td>\n",
       "      <td>3.309553</td>\n",
       "      <td>3.628678</td>\n",
       "      <td>0.365766</td>\n",
       "      <td>26:16</td>\n",
       "    </tr>\n",
       "    <tr>\n",
       "      <td>13</td>\n",
       "      <td>3.324185</td>\n",
       "      <td>3.626347</td>\n",
       "      <td>0.366229</td>\n",
       "      <td>26:11</td>\n",
       "    </tr>\n",
       "    <tr>\n",
       "      <td>14</td>\n",
       "      <td>3.259524</td>\n",
       "      <td>3.623537</td>\n",
       "      <td>0.366840</td>\n",
       "      <td>26:14</td>\n",
       "    </tr>\n",
       "    <tr>\n",
       "      <td>15</td>\n",
       "      <td>3.272984</td>\n",
       "      <td>3.622924</td>\n",
       "      <td>0.367263</td>\n",
       "      <td>26:13</td>\n",
       "    </tr>\n",
       "    <tr>\n",
       "      <td>16</td>\n",
       "      <td>3.198759</td>\n",
       "      <td>3.622609</td>\n",
       "      <td>0.367326</td>\n",
       "      <td>26:17</td>\n",
       "    </tr>\n",
       "    <tr>\n",
       "      <td>17</td>\n",
       "      <td>3.152469</td>\n",
       "      <td>3.622444</td>\n",
       "      <td>0.367593</td>\n",
       "      <td>26:13</td>\n",
       "    </tr>\n",
       "    <tr>\n",
       "      <td>18</td>\n",
       "      <td>3.226348</td>\n",
       "      <td>3.622771</td>\n",
       "      <td>0.367630</td>\n",
       "      <td>26:13</td>\n",
       "    </tr>\n",
       "    <tr>\n",
       "      <td>19</td>\n",
       "      <td>3.273768</td>\n",
       "      <td>3.623025</td>\n",
       "      <td>0.367582</td>\n",
       "      <td>26:15</td>\n",
       "    </tr>\n",
       "  </tbody>\n",
       "</table>"
      ],
      "text/plain": [
       "<IPython.core.display.HTML object>"
      ]
     },
     "metadata": {},
     "output_type": "display_data"
    }
   ],
   "source": [
    "learn.fit_one_cycle(20, 1e-3, moms=(0.8,0.7))"
   ]
  },
  {
   "cell_type": "code",
   "execution_count": 104,
   "metadata": {
    "colab": {},
    "colab_type": "code",
    "collapsed": true,
    "id": "aVkQtpFY5W1s"
   },
   "outputs": [],
   "source": [
    "learn.save('third_hi_lm', with_opt=True)"
   ]
  },
  {
   "cell_type": "code",
   "execution_count": 105,
   "metadata": {
    "colab": {},
    "colab_type": "code",
    "collapsed": true,
    "id": "90ugxdMT5X9q"
   },
   "outputs": [],
   "source": [
    "learn.load('third_hi_lm', with_opt=True);"
   ]
  },
  {
   "cell_type": "code",
   "execution_count": 123,
   "metadata": {
    "colab": {
     "base_uri": "https://localhost:8080/",
     "height": 35
    },
    "colab_type": "code",
    "id": "FrbfD8SDrapi",
    "outputId": "3fdbe6cb-e2e7-4cce-cd53-ab7b012c00b6"
   },
   "outputs": [
    {
     "data": {
      "text/plain": [
       "37.449748712720165"
      ]
     },
     "execution_count": 123,
     "metadata": {},
     "output_type": "execute_result"
    }
   ],
   "source": [
    "np.exp(3.623)"
   ]
  },
  {
   "cell_type": "markdown",
   "metadata": {},
   "source": [
    "# Section 5. Probe the LM by asking it to complete phrases.\n",
    "\n"
   ]
  },
  {
   "cell_type": "code",
   "execution_count": null,
   "metadata": {
    "collapsed": true
   },
   "outputs": [],
   "source": [
    "text='இவருடைய கவிதைகள்'\n",
    "\n",
    "N_WORDS = 60\n",
    "N_SENTENCES = 5"
   ]
  },
  {
   "cell_type": "code",
   "execution_count": null,
   "metadata": {
    "colab": {
     "base_uri": "https://localhost:8080/",
     "height": 296
    },
    "colab_type": "code",
    "id": "Uwi_eROg3rFG",
    "outputId": "c7ca896d-33dc-4d71-9568-2eaf5d50c3f4"
   },
   "outputs": [],
   "source": [
    "def create(text, spm=False, N_WORDS=50):\n",
    "    TEXT=sp.EncodeAsPieces(text)\n",
    "    TEXT=' '.join(TEXT)\n",
    "    sp_merge=lambda s:s.replace(' ','').replace('▁',' ')\n",
    "    samples=[]\n",
    "    for _ in range(N_SENTENCES):\n",
    "      sample=learn.predict(TEXT, N_WORDS, temperature=0.7)\n",
    "      samples.append(sample)\n",
    "      if spm:\n",
    "          print(sample)\n",
    "          print()\n",
    "    if spm:\n",
    "        print()\n",
    "    for sample in samples:\n",
    "      sample=sp_merge(sample)\n",
    "      print(sample)\n",
    "      print()\n"
   ]
  },
  {
   "cell_type": "code",
   "execution_count": 124,
   "metadata": {
    "colab": {},
    "colab_type": "code",
    "id": "o2TerKS1rgh6"
   },
   "outputs": [
    {
     "name": "stdout",
     "output_type": "stream",
     "text": [
      "▁17 - ஆம் ▁நூற்றாண்டில் , ▁சா ம் ▁மற்றும் ▁சா ம் ரா ச்சி ய ுடனான ▁உறவு களை ▁முன்ன ைய ▁நேர த்துக்கு ▁ஏற்ற வாறு ▁மாற்ற ங் களாலும் , ▁சில ▁நேரங்களில் ▁சா ம்பா க் ▁\" ஈ ர் ப்ப ினால் \" ▁ ற ம் பட த் ▁தடை செய்ய ும் ▁ வர் மா வும் ▁வேலை ▁செய்ய ▁முடியும் . ▁<\n",
      "\n",
      "▁17 - ஆம் ▁நூற்றாண்டில் ▁இந்திய ▁அரசாங்கம் ▁( a m er ic an ▁in ter n ation al ▁in d ian ▁in s ti tu te ▁of ▁in d ian s - t ist or y ▁of ▁in d ia ) ▁என்ற ▁பெயரில் ▁இத்திட்ட ம் ▁தொடங்கப்பட்டது . ▁இந்த ▁ஒப்பந்த த்திற்கு ▁20 ▁ஆண்டுகளுக்கு ம் ▁மேலாக ▁ஒ\n",
      "\n",
      "▁17 - ஆம் ▁நூற்றாண்டில் ▁உருவாக்கிய ▁பெர் லின் ▁எனும் ▁இடத்தில் ▁உள்ள ▁ஒரு ▁கல்லறை யில் ▁இருந்த ▁கட்டு க்கதை யை ▁அவரது ▁சகோதர ரான ▁அ லெக் சா ண்டர் ▁இ லியா னோ வின் ▁மனைவி ▁மரியா வின் ▁மக னா வார் . ▁இந்த ▁ஓவிய ம் , ▁ஓவிய ம் , ▁ஓவிய ம் ▁மற்றும் ▁ஓவிய ம் ▁ஆகிய ▁தலைப்பு களில் ▁இருந்து ▁இலக்கிய த்திலும் ,\n",
      "\n",
      "▁17 - ஆம் ▁நூற்றாண்டில் ▁வெளியிடப்பட்ட ▁\" தி ▁டா ▁வின் சி ▁கோ ட் \" ▁என்ற ▁புத்தக த்தில் ▁இடம்பெற்ற ுள்ள ▁வரைபட ங்களை , ▁\" கு விய ன் \" ▁என்ற ▁பெயரில் ▁சொல்ல ப்பட்ட தே ▁இந்த ▁நூல ின் ▁முக்கிய ▁நோக்கம் ▁ஆகும் . ▁இதன் ▁படி , ▁\" அ தி க ம தை \" ▁ , ▁\" ஹ ரி ஸ\n",
      "\n",
      "▁17 - ஆம் ▁நூற்றாண்டில் ▁வட ▁கொ ரியா வில் ▁தொடங்கப்பட்ட ு , ▁தற்போது ▁ஐ ம்ப து ▁ஆண்டுகள் ▁கழித்து ▁புதிய ▁நகரங்களில் ▁இருந்து ▁கொண்டுவர ப்பட்டன . ▁இதில் ▁உள்ள ▁சில ▁ஒரு சில ▁இன ங்களும் ▁உள்ளன . ▁< ▁ / ▁ doc > ▁< doc ▁id =\" 9 27 16\" ▁ url =\" http s : ▁ / ▁\n",
      "\n",
      "\n",
      " 17-ஆம் நூற்றாண்டில், சாம் மற்றும் சாம்ராச்சியுடனான உறவுகளை முன்னைய நேரத்துக்கு ஏற்றவாறு மாற்றங்களாலும், சில நேரங்களில் சாம்பாக் \"ஈர்ப்பினால்\" றம்படத் தடைசெய்யும் வர்மாவும் வேலை செய்ய முடியும். <\n",
      "\n",
      " 17-ஆம் நூற்றாண்டில் இந்திய அரசாங்கம் (american international indian institute of indians-tistory of india) என்ற பெயரில் இத்திட்டம் தொடங்கப்பட்டது. இந்த ஒப்பந்தத்திற்கு 20 ஆண்டுகளுக்கும் மேலாக ஒ\n",
      "\n",
      " 17-ஆம் நூற்றாண்டில் உருவாக்கிய பெர்லின் எனும் இடத்தில் உள்ள ஒரு கல்லறையில் இருந்த கட்டுக்கதையை அவரது சகோதரரான அலெக்சாண்டர் இலியானோவின் மனைவி மரியாவின் மகனாவார். இந்த ஓவியம், ஓவியம், ஓவியம் மற்றும் ஓவியம் ஆகிய தலைப்புகளில் இருந்து இலக்கியத்திலும்,\n",
      "\n",
      " 17-ஆம் நூற்றாண்டில் வெளியிடப்பட்ட \"தி டா வின்சி கோட்\" என்ற புத்தகத்தில் இடம்பெற்றுள்ள வரைபடங்களை, \"குவியன்\" என்ற பெயரில் சொல்லப்பட்டதே இந்த நூலின் முக்கிய நோக்கம் ஆகும். இதன் படி, \"அதிகமதை\" , \"ஹரிஸ\n",
      "\n",
      " 17-ஆம் நூற்றாண்டில் வட கொரியாவில் தொடங்கப்பட்டு, தற்போது ஐம்பது ஆண்டுகள் கழித்து புதிய நகரங்களில் இருந்து கொண்டுவரப்பட்டன. இதில் உள்ள சில ஒருசில இனங்களும் உள்ளன. < / doc> <doc id=\"92716\" url=\"https: / \n",
      "\n"
     ]
    }
   ],
   "source": [
    "text='17-ஆம் நூற்றாண்டில்'\n",
    "create(text, spm=True)"
   ]
  },
  {
   "cell_type": "code",
   "execution_count": 135,
   "metadata": {},
   "outputs": [
    {
     "name": "stdout",
     "output_type": "stream",
     "text": [
      " இந்த கிராமத்தில் மொத்தம் 1200க்கும் மேற்பட்ட அறிவியல் அறிஞர்கள் உள்ளனர். < / doc> <doc id=\"92754\" url=\"https: / / ta.wikipedia.org / wiki?curid=927\n",
      "\n",
      " இந்த கிராமத்தில் 47 / 11, 36 / 115, 840 மற்றும் 600 / 822 / 800 / 856 / 94-50 / 08 / 56 / 85\n",
      "\n",
      " இந்த கிராமத்தில் 65 வயதுடைய பெண்மணி. < / doc> <doc id=\"93967\" url=\"https: / / ta.wikipedia.org / wiki?curid=93967\" title=\"அ\n",
      "\n",
      " இந்த கிராமத்தில் உள்ள பார்வையாளர்கள், 18 வயது நிரம்பியவர்களாக உள்ளனர். இவர்கள் இருவரும் அவற்றின் ஆய்வுக் காலத்தை கீழேயுள்ள அட்டவணை காட்டுகின்றது. இந்த அட்டவணைகளில் பின்வருவன அடங்கும்: < / doc> <doc id=\"26441\" url=\"https:\n",
      "\n",
      " இந்த கிராமத்தில் வ்யூஷன்ஸ் (metels) என்ற பெயரில் கோபிச்செராவின் பெயர் பொறிக்கப்பட்டுள்ளது. கோட்பாட் மற்றும் வார்னர் ஆகியோர் கோன்ராட்ச் என்ற பெயரில் சொல்லும் வடிவங்களில் சில இந்த வைட்கள் மிகவும் பரவலாக போற்ற\n",
      "\n"
     ]
    }
   ],
   "source": [
    "create('இந்த கிராமத்தில்')"
   ]
  },
  {
   "cell_type": "code",
   "execution_count": 117,
   "metadata": {},
   "outputs": [
    {
     "name": "stdout",
     "output_type": "stream",
     "text": [
      "▁1995 ▁ ம் ▁ஆண்டு ▁முதல் ▁2000 ▁வரை ▁கொண்ட ா ▁ , ▁12 1 ▁நாடுகளில் ▁31 , 70 3 , 3 87 , 5 87 , 46 5 ▁( 4 , 11 2 , 3 30 ) ▁போன்றவை ▁வடிவ ங்கள் . ▁அ ப்பகுதி களிலும் , ▁பதிவு ச் ▁செய்யப்பட்டு , ▁ 47 ▁சதவீத த்திலும் , ▁1 ▁ / ▁5 , ▁2, ▁2, ▁4. ▁ % ஆக வ ுள்ள தாலும்\n",
      "\n",
      "▁1995 ▁ ம் ▁ஆண்டு ▁முதல் ▁2000 ▁வரை ▁ 51 ▁வது ▁வருட த்தில் ▁சீன ▁ / ▁மத்திய ▁ஆசிய ▁நாடுகளில் ▁( 20 11 ) ▁1. 5 ▁மில்லியன் ▁அமெரிக்க ▁டாலர் கள் , ▁ஆசியா வில் ▁ வழ மையாக ▁ஒரு ▁மில்லியன் ▁அமெரிக்க ▁டாலர் கள் ▁ஆகும் . ▁அமெரிக்காவில் , ▁மிக ▁அதிக ▁இலாப ம் ▁பெறும் ▁நாடு களான ▁கா ற் பந்தாட்ட ம் , ▁ ஸ் வீ டன் , ▁சை க்கி ள் , ▁இரு ச க்க\n",
      "\n",
      "▁1995 ▁ ம் ▁ஆண்டு ▁முதல் ▁2000 ▁வரை ▁வா க்கில் ▁நடைபெற்ற ு ▁வருகின்றன . ▁ எடுத்துக்காட்டாக , ▁இந்த ▁ ப் ரை யன் ▁ ரை ட் ▁என் பா ரின் ▁\" த ▁ ரை டர் ▁ஆஃப் ▁த ▁மி யூ சி க் \" ▁என்ற ▁கட்டுரை ▁ஆண் பால் ▁ ரை ஸ் ▁( இன் றை ய ▁அ த்தோடு ▁அமெரிக்காவின் ▁ ரை ன் ▁மீ டியா வில் ▁இருந்து ▁ஒரு ▁மில்லியன் ▁பிரதி களுக்கு ▁மேலாக ) ▁என்று\n",
      "\n",
      "▁1995 ▁ ம் ▁ஆண்டு ▁முதல் ▁2000 ▁வரை யும் , ▁1997 ▁ஆம் ▁ஆண்டில் ▁ ம் பியா ன் ▁ 03 வது ▁ஆண்டு விழா வும் , ▁ 33 வது ▁பொது ச்ச ங்க த்தில் ▁ 68 வது ▁இட த்திலும் , ▁இந்தியாவின் ▁பிரதம ராக ▁இருந்த ▁தி யாக ி ▁சோ ப் ரின் ▁ 36 வது ▁ஆண்டு விழா விலும் ▁நடைபெற்ற ு வந்த து . ▁< ▁ / ▁ doc > ▁< doc ▁id =\"\n",
      "\n",
      "▁1995 ▁ ம் ▁ஆண்டு ▁முதல் ▁2000 ▁வரை ▁ / ▁இரவு ▁நேர ங்கள் ▁வரை ▁ / ▁நிமிட ங்கள் ▁ / ▁நொ டி கள் ▁வரை ▁ / ▁30 ▁ / ▁- ▁m h z ▁( மு ன்ன தாக ) ▁ / ▁ 77 ▁ / ▁ 79 ▁ / ▁ 85 ▁ / ▁45 ▁ / ▁ 03 ▁ / ▁ 09 ▁ / ▁ 09 ▁ / ▁\n",
      "\n",
      "\n",
      " 1995 ம் ஆண்டு முதல் 2000 வரை கொண்டா , 121 நாடுகளில் 31,703,387,587,465 (4,112,330) போன்றவை வடிவங்கள். அப்பகுதிகளிலும், பதிவுச் செய்யப்பட்டு, 47 சதவீதத்திலும், 1 / 5, 2, 2, 4. %ஆகவுள்ளதாலும்\n",
      "\n",
      " 1995 ம் ஆண்டு முதல் 2000 வரை 51 வது வருடத்தில் சீன / மத்திய ஆசிய நாடுகளில் (2011) 1.5 மில்லியன் அமெரிக்க டாலர்கள், ஆசியாவில் வழமையாக ஒரு மில்லியன் அமெரிக்க டாலர்கள் ஆகும். அமெரிக்காவில், மிக அதிக இலாபம் பெறும் நாடுகளான காற்பந்தாட்டம், ஸ்வீடன், சைக்கிள், இருசக்க\n",
      "\n",
      " 1995 ம் ஆண்டு முதல் 2000 வரை வாக்கில் நடைபெற்று வருகின்றன. எடுத்துக்காட்டாக, இந்த ப்ரையன் ரைட் என்பாரின் \"த ரைடர் ஆஃப் த மியூசிக்\" என்ற கட்டுரை ஆண்பால் ரைஸ் (இன்றைய அத்தோடு அமெரிக்காவின் ரைன் மீடியாவில் இருந்து ஒரு மில்லியன் பிரதிகளுக்கு மேலாக) என்று\n",
      "\n",
      " 1995 ம் ஆண்டு முதல் 2000 வரையும், 1997 ஆம் ஆண்டில் ம்பியான் 03வது ஆண்டுவிழாவும், 33வது பொதுச்சங்கத்தில் 68வது இடத்திலும், இந்தியாவின் பிரதமராக இருந்த தியாகி சோப்ரின் 36வது ஆண்டுவிழாவிலும் நடைபெற்றுவந்தது. < / doc> <doc id=\"\n",
      "\n",
      " 1995 ம் ஆண்டு முதல் 2000 வரை / இரவு நேரங்கள் வரை / நிமிடங்கள் / நொடிகள் வரை / 30 / - mhz (முன்னதாக) / 77 / 79 / 85 / 45 / 03 / 09 / 09 / \n",
      "\n"
     ]
    }
   ],
   "source": [
    "create('1995 ம் ஆண்டு முதல் 2000 வரை')"
   ]
  },
  {
   "cell_type": "code",
   "execution_count": 136,
   "metadata": {},
   "outputs": [
    {
     "name": "stdout",
     "output_type": "stream",
     "text": [
      " <doc id=\"91204\" url=\"https: / / ta.wikipedia.org / wiki?curid= xxrep 4 3 \" title=\"இணையக் குறியீடு (குறியீடு)\"> இணைய எழுத்து (தமிழ்) எழுத்துப் மொழி என்பது தன் மட்டுமன்றி பல பல எண்ணிக்கையிலான மொழிகளுடனும் தொடர்பு கொள்ளும் ஒரு மொழியாகும். இது, மொழி, வரலாறு, மொழி, மொழி, பண்பாடு, பண்பாட்டளவை, மொழி, பண்பாடு, ஊடகம், மொழி, மொழி, பண்பாடு, மொழி, சமயம், மொழி தொடர்பான மொழியான க்ரௌன், மற்றும் பிற மொழிகளுடன் நெருங்கிய தொடர்புள்ள ஒரு மொழி ஆகும். இது ஆங்கில மொழியின் ஒரு தோற்றப்பாடிற்கு பின்னர் எழுதபட்டுள்ளது. மேலும் இது பல்வேறு மொழியியல் அம்சங்களையும் கொண்டுள்ளது. < / doc> <doc id=\" xxrep 4 1 22\" url=\"https: / / ta.wikipedia.org / wiki?curid= xxrep 4 1 22\" title=\"துறவறம் (நூல்)\"> அறியறம் (நூல்) தெய்வறம், தமிழ் மொழியில்\n",
      "\n",
      " <doc id=\"91204\" url=\"https: / / ta.wikipedia.org / wiki?curid=111012\" title=\"மின்னணுவியல்\"> மின்னணுவியல் மின்னணுவியல் (\"memophysics\") என்பது இயற்பியலில் பயன்படும் ஒரு கருவியாகும். ஒரு பொருளில் இருந்து மின்னூட்டத்தை வெளிக்கொண்டு செல்லும் மின்னோட்டம், மின் புலத்தை ஒரு குறிப்பிட்ட பொருளை அல்லது மற்றொன்றின் மீது கொண்டுவந்தால் அது மின் புலத்தை உருவாக்குகிறது. மின்காந்தவியல் என்பது அதன் அமைப்பு, மின்னழுத்தம், அதிர்வெண், அதிர்வெண், அதிர்வெண், அதிர்வெண் ஆகிய பண்புகளுக்கு ஏற்ப, மின்காந்த அலைகளின் பெருக்கத்தை அளக்கும் ஆற்றல்களை அளவிட உதவும் ஒரு கருவி ஆகும். மின்காந்தவியல் மூலம் காந்த புலம் அலைவின் திசையை மாற்றி பகுப்பாகவும், திசை மாறியாகவும், திசையன்கள், சுற்றுப் பாதைகள், மின்காந்த அலைகள் ஆகியவையும், மின்காந்த முனையைக் கண்டு மருத்துவத்தில் பயன்படுத்தப்படுகிறது. அலைகள், மின் காந்தப் புலங்கள், ஒலியலைகள், மின்காந்த அலைகள் போன்றவற்றின் மூலம் மின்காந்த புலம், மின்காந்த அலைகள் போன்றவற்றினூடாக மின்காந்த அலைகள் மின்காந்த அலைகளின் பரவலைப் படம் மாற்றிக்கொள்கின்றன. மின்காந்த அலைகள், ஒளியின் நீளம்,\n",
      "\n",
      " <doc id=\"91204\" url=\"https: / / ta.wikipedia.org / wiki?curid=111927\" title=\"நல்லமுத்து\"> நல்லமுத்து நல்லமுத்து (சுசென்னா, \"nandhakei\", பிறப்பு: சூலை 5, 1982) இலங்கையைச் சேர்ந்த ஓர் அரசியல்வாதியும், அரசியல்வாதியும், அமைச்சர்யும் ஆவார். இவர் ஐக்கிய தேசியக் கட்சியின் தலைவர். இவர் சனநாயகத் தேர்தலில், இலங்கை சனநாயகக் கூட்டணியில் 6வது நாடாளுமன்ற உறுப்பினராக தேர்ந்தெடுக்கப்பட்டிருந்தார். < / doc> <doc id=\"112035\" url=\"https: / / ta.wikipedia.org / wiki?curid=112035\" title=\"புஷ்பமி முகம்மது\"> புஷ்பஷமி புஷ்பகிரகம் (பி: 1936) மலேசியாவில் எழுத்தாளர்களுள் ஒருவராவராவார். இவர் தேசிய பத்திரிகைகளில், \"தகவல் மலர்\" என அழைக்கப்பட்டவர். 1965 தொடக்கம் இவர் மலேசியா தமிழ் இலக்கியத்துறையில் ஈடுபட்டுவருகின்றார். பெரும்பாலும் சிறுகதைகள், கட்டுரைகள், கவிதைகள், வானொலிகள் போன்றவற்றை எழுதி வருகின்றார். இவரின் இத்தகைய ஆக்கங்கள் மலேசியா தேசிய பத்திரிகைகளிலும், இதழ்களிலும் பிரசுர\n",
      "\n",
      " <doc id=\"91204\" url=\"https: / / ta.wikipedia.org / wiki?curid=3 xxrep 4 0 \" title=\"நைசோன்\"> நைசோன் நைசோன் அல்லது நைஜீரியா அல்லது நைசோன் என்பது நைஜீரியாவில் வாழும் ஒரு இனமாகும். இது உலகில் வாழும் வாழும் இடங்களில் வாழும் மக்களின் மொத்த உள்நாட்டு உற்பத்தியில் 62% ஆகும். நைஜீரியாவில் உள்ள பெரும்பாலான பகுதிகளில் வாழும் மாத்திரமே இந்த இனத்தின் தொழிற்பெயர்களாகும். < / doc> <doc id=\"12034\" url=\"https: / / ta.wikipedia.org / wiki?curid=12034\" title=\"ஆஸ்திரேலிய தலாசுத் தமிழ்ப் பள்ளிகள்\"> ஆஸ்திரேலியர் தலாசுப் பள்ளிகள் பிரிட்டன் தஸ்தயேவ்ஸ்கி - ஆங்கிலம் அல்லது இத்தாலியம் ஆப்பிரிக்க-அமெரிக்கத் தமிழறிஞர்கள் (அல்பிரானிசியே (absolute)) அரபு மொழியின் தமிழ் மொழிப் பெயர் ஆகும். 1965 ஆம் ஆண்டு நடைபெற்ற இந்திய-ஆரியப் கண்ட\n",
      "\n",
      " <doc id=\"91204\" url=\"https: / / ta.wikipedia.org / wiki?curid= xxrep 4 1 54\" title=\"அப்பாச்சிப் பிள்ளை\"> அப்பாச்சிப் பிள்ளை அப்பாச்சிப் பிள்ளை (english: \"agadeki - sugarna\") ஒரு மணித்துளிகள் ஆகும். இதில் 100 மீட்டர்கள் அகலமும், 60 செ.மீ. அகலமும் கொண்ட சிறிய ஒரு மீட்டர் அகலமும், 64 மீட்டர் அகலமும் கொண்ட இதன் தலைப்பகுதி வெளித் திட்டுகள் ஆகும். < / doc> <doc id=\"91206\" url=\"https: / / ta.wikipedia.org / wiki?curid=91206\" title=\"லூயிசு போத்லே\"> லூயிசு போத்லே லூயிசு போத்ரீ (\"laniel de von subdala\", பி. அக்டோபர் 4, 1942) ஒரு அமெரிக்கத் திரைப்பட நடிகை மற்றும் திரைப்பட இயக்குநர் ஆவார். 17 வது வயதில் பிரெஞ்சுத் திரைப்பட நடிகர் செக் ஸ்லேடர் உடன் கம்\n",
      "\n"
     ]
    }
   ],
   "source": [
    "create('<doc id=\"91204\" url=\"https: / / ta.wikipedia.org / wiki?', N_WORDS=200)"
   ]
  },
  {
   "cell_type": "code",
   "execution_count": 137,
   "metadata": {},
   "outputs": [
    {
     "name": "stdout",
     "output_type": "stream",
     "text": [
      " <doc id=\"9204\" url=\"https: / / ta.wikipedia.org / wiki?curid= xxrep 4 1 04\" title=\"குட்டூர் (சட்டமன்றத் தொகுதி)\"> குட்டூர் (சட்டமன்றத் தொகுதி) குட்டூர் சட்டமன்றத் தொகுதி, இந்தியாவின், தமிழ்நாடு மாநிலத்தில் வேலூர் மாவட்டத்தில் உள்ள ஒரு சட்டமன்றத் தொகுதி ஆகும். இதன் தொகுதி எண் 62. இது திருப்பூர் மக்களவைத் தொகுதியுள் அடங்குகிறது. தொகுதி மறுசீரமைப்பின்போது பேரூராட்சியாக இருந்த சில தொகுதிகள் புதிதாக உருவாக்கப்பட்டவை. < / doc> <doc id=\"82023\" url=\"https: / / ta.wikipedia.org / wiki?curid=82023\" title=\"ஆதவன்\"> ஆதவன் ஆதவன் (ஆங்கிலம்:adaravaga), இந்தியாவின் தமிழ்நாடு மாநிலத்தில் அமைந்துள்ள திருப்பூர்\n",
      "\n",
      " <doc id=\"9204\" url=\"https: / / ta.wikipedia.org / wiki?curid=392921\" title=\"பாண்டிச்சேரி\"> பாண்டிச்சேரி பாண்டிச்சேரி இந்தியாவின் தமிழ்நாடு மாநிலத்தில் அமைந்துள்ள காஞ்சிபுரம் மாவட்டத்தில் இருக்கும் ஒரு நகராட்சி ஆகும். இது தஞ்சாவூர் மாவட்டம், திருவள்ளூர் மாவட்டத்திலுள்ள முண்டியம்பட்டி ஊராட்சி ஒன்றியத்தில் உள்ள துண்டிநகர் பகுதியில் அமைந்துள்ளது. < / doc> <doc id=\"378297\" url=\"https: / / ta.wikipedia.org / wiki?curid=378297\" title=\"பங்களா\"> பருா பருா (pattaa) என்பது தமிழ்நாட்டின், தஞ்சாவூர் மாவட்டம், பட்டுக்கோட்டை தாலுக்காவில் உள்ள கிராமம் ஆகும். இக் கிராமம் முக்கூடல், பேரூராட்சி, ஒளஹரம், கும்பகோணம், கோணாபுரம்,\n",
      "\n",
      " <doc id=\"9204\" url=\"https: / / ta.wikipedia.org / wiki?curid= xxrep 4 4 \" title=\"அமிர்தசரசி\"> அமிர்தமிர் அமிர்தசிதமி (ahmathoreda) என்பது இலங்கையின் வட மாகாணத்தில் அமைந்துள்ள யாழ்ப்பாண மாவட்டத்தின் வடமராட்சி என்னும் ஊரில் அமைந்துள்ள ஒரு கிராமம் ஆகும். இது இலங்கைத் தீவின் கிழக்குக் கடற்கரையில் அமைந்துள்ளது. இது அவிசாவளை நகரையும், கொழும்பு நகரையும் இணைக்கும் பாதை ஆகும். நெட்டகிரியில், வவுனியா நகரத்திற்கு வடக்கில் 700 கிமீ தூரத்தில் அமைந்துள்ளது. இதன் கிழக்கே ஒரு நகரமும், கிழக்கில் மாத்தறை கிராமம், கிழக்கில் காங்கேசன்துறை நகரமும், மேற்கில் ஞானாங்கிர் பிரதேசமும், தென்கிழக்கில் மம்மியூர் மகாவித்தியாலமும், தெற்கே யாழ்ப்பாண நகரமும், தெற்கே பொல\n",
      "\n",
      " <doc id=\"9204\" url=\"https: / / ta.wikipedia.org / wiki?curid= xxrep 4 1 04\" title=\"பெப்ரவரி 16\"> பெப்ரவரி 30 < / doc> <doc id=\"14363\" url=\"https: / / ta.wikipedia.org / wiki?curid=34363\" title=\"விண்டோஸ் வலையமைப்பு\"> விண்டோஸ் வலையமைப்பு விண்டோஸ் செல்லிடப்பேசி என்பது விண்டோஸ் இயங்குதளத்தில் இயங்கும் ஒரு கணினி இயங்குதளம் ஆகும். மைக்ரோசாப்ட் எக்ஸ்சேஞ்ச் கணினி பதிப்பில் மேம்படுத்தப்பட்ட விண்டோஸ் எக்ஸ்பியை அறிமுகம் செய்தது. விண்டோஸ் எக்ஸ்பி ஆனது விண்டோஸ் இயங்குதளத்தில் உள்ள ஒரு கணினியில் இயங்கக்கூடியது. மைக்ரோசாப்ட் இயங்குதளம் விண்டோஸ் எக்ஸ்பி\n",
      "\n",
      " <doc id=\"9204\" url=\"https: / / ta.wikipedia.org / wiki?curid=11\" title=\"மைக்கல் பச் (சிற்றிதழ்)\"> மைக்கல் பச் (சிற்றிதழ்) மைக்கல் பச். கவரின் தம்பிகளுள் ஒருவராவார். இவர் ஒரு எழுத்தாளரும், எழுத்தாளரும் ஆவார். ஒளி மலர் நூல்கள், நந்தி, பக்தவத்சலம், முரளி, சுப. நரி, நகை, அபயம ட்வை, மல்லிகை, சிரித்தி, தலைமாடு, பாவை, மகி, மிருதுவிடு, யஸீதி, சூசையச்சி, நந்தா, தொழுகை, மல்லிகை, நமஞ்சரி, புருஷன், துரிதிசை, மாருதி, துப்புரவி, நுனி\n",
      "\n"
     ]
    }
   ],
   "source": [
    "create('<doc id=\"9204\" url=\"https: / / ta.wikipedia.org / wiki?', N_WORDS=150)"
   ]
  },
  {
   "cell_type": "code",
   "execution_count": 139,
   "metadata": {},
   "outputs": [
    {
     "name": "stdout",
     "output_type": "stream",
     "text": [
      " <doc id=\"9204\" url=\"https: / / ta.wikipedia.org / wiki?curid= xxrep 4 3 \" title=\"விக்கிரமசிங்க\"> விக்கிரமசிங்க விக்கிரமசிங்க (\"vancarare\") என்பது இலங்கையின் கிழக்கு மாகாணத்தில் யாழ்ப்பாண மாவட்டத்தில் அம்பாறை மாவட்டத்தில் உள்ள ஒரு கிராமம் ஆகும். இது யாழ்ப்பாண மாவட்டத்தின் தலைநகரை உள்ளடக்கி இருந்தது. இது யாழ்ப்பாண மாவட்டத்தின் வடமத்தியப் பகுதியில் அமைந்துள்ளது. இது 1770 இல் கட்டப்பட்டு, பின்னர் 1844 இல் பிரித்தானியர் ஆட்சிக்குட்பட்டது. இங்கு இந்துக்களும், இந்துக்களும் பெரும்பான்மையாகக் கொண்ட பேரூர், யாழ்ப்பாணம், மாவேலிக்கரசி, யாழ்ப்பாணம் ஆகிய இடங்களில் வாழ்கின்றனர். இலங்கையில் பெரும்பான்மையாக வாழும் அம்பக்கரக்கள், தமிழ் முஸ்லிம்கள், முஸ்லிம்கள், சிங்களவர், தமிழருக்கு ஒரு பிரிவினர் ஏனையோர் ஆவர். ஏனைய தமிழின மக்கள் தொகை 4, 33,000\n",
      "\n",
      " <doc id=\"9204\" url=\"https: / / ta.wikipedia.org / wiki?curid= xxrep 4 1 04\" title=\"மகாகவி\"> மகாகவி மகாகவி, (பிறப்பு: பிப்ரவரி 10, 1954) இலங்கை அரசியல்வாதியும், நாடாளுமன்ற உறுப்பினரும் ஆவார். இவர் பேராதனைப் பல்கலைக்கழகத்தின் (united school of indian) தேசிய சபை (ac)யில் (mc) சட்டமன்ற உறுப்பினராக உள்ளார். இலங்கையின் நாடாளுமன்ற உறுப்பினராக இருந்தும், 2004 முதல் 2010 வரை நாடாளுமன்றத்தில் 35 ஆண்டுகள் பிரதிநிதித்துவப் பதவி வகித்தார். 2010 ஆம் ஆண்டில் ஐக்கிய தேசியக் கட்சியில் இணைந்து நாடாளுமன்ற உறுப்பினராகவும், ஐக்கிய மக்கள் சுதந்திரக் கூட்டணியின் உறுப்பினராகவும் தேர்ந்தெடுக்கப்பட்டார். அட்சாவின் மரணத்திற்குப் பின்னர், இவர் நாடாளுமன்றத்தின் அதிபராக தெரிவுசெய்யப்பட்டார். இவர் தற்போது ஐக்கிய மக்கள் சுதந்திரக் கூட்டணியில் 5வது மக்களவை\n",
      "\n",
      " <doc id=\"9204\" url=\"https: / / ta.wikipedia.org / wiki?curid= xxrep 4 1 04\" title=\"சபீதுர்கான் (துடுப்பாட்டக்காரர்)\"> சபீதுர் கான் (துடுப்பாட்டக்காரர்) சபீதுர் கான் (இறப்பு: மார்ச் 10, 2016) ஒரு தென்னிந்தியத் திரைப்பட நடிகர். இவர் மூன்று தமிழ் திரைப்படங்களுக்கு பின்னணியிசைகளுக்கான பின்னணி இசையை இயக்கியுள்ளார். இவர் தற்போது தமிழ் பாடகி மற்றும் திரைப்படத் தயாரிப்பாளர். இவர் தற்போது தமிழ் திரைப்படங்களில் நடிக்கத் துவங்கினார். இவர் திரைப்படத் துறையில் சென்னைக்கு வரும் நடிகராக விளங்குகிறார். தற்போது திரைப்பட இயக்குநர் நிர்மலா \"அறிமுகம்\" திரைப்படத்தில் நடித்துள்ளார். இவர் \"சௌந்தரபாணி\" என்ற படத்தில் நடித்ததற்காக சிறந்த நடிகைக்கான தேசிய விருது பெற்றார். இவர் பெரியார், \"சத்யஜித்குமாரர்\" என்னும் படத்தில் நடித்து\n",
      "\n",
      " <doc id=\"9204\" url=\"https: / / ta.wikipedia.org / wiki?curid= 7708\" title=\"திசையிழையங்கள்\"> குருதியிழையங்கள் குருதியிழையங்கள் அல்லது குருதியணுக்களின் குருதியணுக்கள் (ecg plasma) அல்லது குருதியணுக் கலங்கள் (\"pyrmond periods\") என்பவை புரத நோய்களை கட்டுப்படுத்துவதற்கும், குருதிக் கலங்களுக்குள் உள்ள தாக்கங்களை ஏற்படுத்தி, அவற்றை அணுகவும் பயன்படும் உயிரணுக்களைக் கொண்ட உயிரணுக்களைக் குறிக்கும். இவற்றில் முக்கியக் காரணிகள் உயிரணுக்களின் இனப்பெருக்க உறுப்புக்களே ஆகும். இழையங்கள், இழையங்களின் தொழிற்பாடு, இழையம், இழையம், இழையம் என்பன பொதுவாக ஒரு தனியன் தொகுதியாகவோ அல்லது ஒரே தொகுதியாகவோ இருக்கும். உயிரணுக்கள், இழையங்கள், கொம்புகள், தண்டுகள் போன்றன இழையுரு\n",
      "\n",
      " <doc id=\"9204\" url=\"https: / / ta.wikipedia.org / wiki?curid= xxrep 4 4 \" title=\"பால்வீடசர்\"> பால்வீடசர் பால்வீடசர் (\"marter\") என்பது நாற்புறமும், புறப்பரப்பில் உள்ள மனிதரின் மூளையின் அமைப்பைப் கூறுவதுமாகும். இதன் வழியாகச் செல்லும் அளவு, உடலின் இன்னொரு பகுதி, நாற்புறமும், ஒருவருக்கும் இடையே அமைந்த மடக்கையின் உடல்கள், மற்றும் நாண்கள், நாண்கள், கண்கள், நாக்கு, முள் போன்ற சில உறுப்புகள் இணைந்து இருக்கும். இந்த நாக்கு மேல்முனையில் ஓடும். நாக்கு பகுதி வயிற்றில் செம்பு, கழுத்தின் கீழ் பகுதி, இளம், மார்பு, வயிறு, மார்பு உட்பட பாதங்களை பிடித்து விடுகிறது. நாக்கின் வெளிப்புறத்தில் இருக்கும். தாயின் உடலின் அடி\n",
      "\n"
     ]
    }
   ],
   "source": [
    "create('<doc id=\"9204\" url=\"https: / / ta.wikipedia.org / wiki?', N_WORDS=150)"
   ]
  },
  {
   "cell_type": "code",
   "execution_count": null,
   "metadata": {
    "collapsed": true
   },
   "outputs": [],
   "source": []
  }
 ],
 "metadata": {
  "accelerator": "GPU",
  "colab": {
   "collapsed_sections": [],
   "name": "tamil-nlp-wikilink-article-tokenizer-lm.ipynb",
   "provenance": [],
   "version": "0.3.2"
  },
  "kernelspec": {
   "display_name": "Python 3",
   "language": "python",
   "name": "python3"
  },
  "language_info": {
   "codemirror_mode": {
    "name": "ipython",
    "version": 3
   },
   "file_extension": ".py",
   "mimetype": "text/x-python",
   "name": "python",
   "nbconvert_exporter": "python",
   "pygments_lexer": "ipython3",
   "version": "3.6.3"
  }
 },
 "nbformat": 4,
 "nbformat_minor": 1
}
